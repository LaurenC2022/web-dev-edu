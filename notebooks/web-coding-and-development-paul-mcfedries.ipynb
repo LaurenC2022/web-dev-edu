{
 "cells": [
  {
   "cell_type": "markdown",
   "metadata": {
    "id": "E3_zaR1J6EfM"
   },
   "source": [
    "# Web Coding & Development For Dummies by Paul McFedries"
   ]
  },
  {
   "cell_type": "markdown",
   "metadata": {
    "id": "SF6ZPKDF53If"
   },
   "source": [
    "IMPORTANT:\n",
    "- [Link to Code Source](https://www.paulmcfedries.com/webcodingfordummies/) \n",
    "- Web Coding & Development a book by Paul McFedries: [Link to Book here](https://www.paulmcfedries.com/books/book.php?title=web-coding-dev-aio-fd). \n",
    "- [The Webdev Workshop by Paul McFedries](https://webdev.mcfedries.com)\n",
    "- Below is my playground. I use this code for educational purposes only. All code here is openly avaliable at the \"Link to Code Source\" above and at The Webdev Workshop by Paul McFedries. In the below code, I may or may not have altered the original text by Paul McFedries for learning purposes only. Please see book, Link to Code Source and WebDev Workshop by Paul McFedries for more information. "
   ]
  },
  {
   "cell_type": "markdown",
   "metadata": {
    "id": "Qq4kolXF6NXJ"
   },
   "source": [
    "## Book 2: Coding the Front End, Part 1: HTML & CSS"
   ]
  },
  {
   "cell_type": "markdown",
   "metadata": {
    "id": "4nqT2oaG6F5R"
   },
   "source": [
    "### Chaper 3: Sizing and Positioning Page Elements"
   ]
  },
  {
   "cell_type": "markdown",
   "metadata": {
    "id": "3sYBmpQwBacb"
   },
   "source": [
    "#### 1. Learning About the CSS Box Model: [Link to My Playground](https://laurenc2022.github.io/web-dev-edu/web-coding-and-development-by-paul-mcfedries/book-two-coding-front-end-p1/ch3-sizing-and-positioning-page-elements/1-pg104-learning-about-the-css-box-model.html) (pg 104)"
   ]
  },
  {
   "cell_type": "markdown",
   "metadata": {
    "id": "AyYxl0hXB3YR"
   },
   "source": [
    "\n",
    "- Padding: space around the content within the box\n",
    "- Margin: Space outside of the border seperating the box from other boxes \n",
    "- border: surrounding the box padding and content"
   ]
  },
  {
   "cell_type": "markdown",
   "metadata": {
    "id": "kq_fF2e3Bc0y"
   },
   "source": [
    "#### 2. Styling Element Sizes: [Link to My Playground](https://laurenc2022.github.io/web-dev-edu/web-coding-and-development-by-paul-mcfedries/book-two-coding-front-end-p1/ch3-sizing-and-positioning-page-elements/2-pg105-styling-element-sizes.html) (pg 105)"
   ]
  },
  {
   "cell_type": "markdown",
   "metadata": {
    "id": "_zdGg6ZhB9_Y"
   },
   "source": [
    "- Block-level elements (ex: header, div) have width of their parent element. Body element width is set to browser's content area \n",
    "- Block element's size is content only, excludes padding, boarders and margins\n",
    "- [**Box-sizing: border-box**](https://laurenc2022.github.io/web-dev-edu/web-coding-and-development-by-paul-mcfedries/book-two-coding-front-end-p1/ch3-sizing-and-positioning-page-elements/my-playgrounds/1-box-sizing-my-playground.html) is a CSS property which redefines element's size to include padding, and border \n",
    "- Best practice: set width and heights for all box elements, so nothing is left up to chance and website always looks the way it is designed\n",
    "- inline element can be made to behave like a block element\n",
    "    - Method 1 with CSS: \n",
    "        - display: inline-block; \n",
    "        - gives inline element block related properties, but still is inline \n",
    "    - Method 2 with CSS: \n",
    "        - display: block; \n",
    "        - turns inline elements into block elements, inline element will behave exactly like a box element"
   ]
  },
  {
   "cell_type": "markdown",
   "metadata": {
    "id": "0dfDhpL26KJJ"
   },
   "source": [
    "#### 3. Adding Padding: [Link to My Playground](https://laurenc2022.github.io/web-dev-edu/web-coding-and-development-by-paul-mcfedries/book-two-coding-front-end-p1/ch3-sizing-and-positioning-page-elements/3-pg107-adding-padding.html) (pg 107)\n",
    "\n"
   ]
  },
  {
   "cell_type": "code",
   "execution_count": null,
   "metadata": {
    "vscode": {
     "languageId": "html"
    }
   },
   "outputs": [],
   "source": [
    "%%HTML\n",
    "\n",
    "<head>\n",
    "    <meta charset=\"utf-8\">\n",
    "    <meta name=\"viewport\" content=\"width=device-width, initial-scale=1.0\">\n",
    "    <title>Adding Padding</title>\n",
    "\n",
    "    <style>\n",
    "        * {\n",
    "            box-sizing: border-box;\n",
    "        }\n",
    "\n",
    "        body {\n",
    "            margin: 2rem;\n",
    "            width: 30rem;\n",
    "            text-align: justify;\n",
    "        }\n",
    "\n",
    "        aside {\n",
    "            border: 1px solid black;\n",
    "            margin: 1.5rem;\n",
    "        }\n",
    "\n",
    "        .padded {\n",
    "            padding: 1rem;\n",
    "        }\n",
    "    </style>\n",
    "    <script>\n",
    "    </script>\n",
    "</head>\n",
    "\n",
    "<body>\n",
    "    <aside>\n",
    "        <b>Note:</b> Creating a new word by chopping off the initial letter or syllable of an existing word is called\n",
    "        <i>aphaeresis</i> (which means “to take away”). This not-as-uncommon-as-you-might-think process was the source\n",
    "        of words such as <i>mend</i> (a shortening of <i>amend</i>), <i>spy</i> (from <i>espy</i>), <i>cute</i> (from\n",
    "        <i>acute</i>), and <i>squire</i> (from <i>esquire</i>).\n",
    "    </aside>\n",
    "    <aside class=\"padded\">\n",
    "        <b>Note:</b> Creating a new word by chopping off the initial letter or syllable of an existing word is called\n",
    "        <i>aphaeresis</i> (which means “to take away”). This not-as-uncommon-as-you-might-think process was the source\n",
    "        of words such as <i>mend</i> (a shortening of <i>amend</i>), <i>spy</i> (from <i>espy</i>), <i>cute</i> (from\n",
    "        <i>acute</i>), and <i>squire</i> (from <i>esquire</i>).\n",
    "    </aside>\n",
    "</body>"
   ]
  },
  {
   "cell_type": "markdown",
   "metadata": {},
   "source": [
    "- remove default margin and padding before started project \n",
    "    - Cons with removing defaults: all margins and borders must be set by me \n",
    "    - pro: i have complete control over whitespace "
   ]
  },
  {
   "cell_type": "markdown",
   "metadata": {
    "id": "lOqDc2-YCZn5"
   },
   "source": [
    "#### 4. Collapsing margins ahead! (part one): [Link to My Playground](https://laurenc2022.github.io/web-dev-edu/web-coding-and-development-by-paul-mcfedries/book-two-coding-front-end-p1/ch3-sizing-and-positioning-page-elements/4-collapsing-margins-ahead-p1.html) (pg 111)\n",
    "\n"
   ]
  },
  {
   "cell_type": "markdown",
   "metadata": {},
   "source": [
    "- Collapsing Margins \n",
    "    - CSS feature which: one element's margin buts up against another element's top margin the browser uses the larger of the two margins values and throws out the smaller value \"Collapses\" the two into 1 value, the larger one \n",
    "    - soluctions: \n",
    "        - increase margin-top OR margin-bottom value to by the sum of the total margin you want between the two elements \n",
    "        - add padding to which ever element does not have a border "
   ]
  },
  {
   "cell_type": "code",
   "execution_count": null,
   "metadata": {},
   "outputs": [],
   "source": [
    "%%HTML\n",
    "<!DOCTYPE html>\n",
    "<html lang=\"en\">\n",
    "<head>\n",
    "    <meta charset=\"UTF-8\">\n",
    "    <meta http-equiv=\"X-UA-Compatible\" content=\"IE=edge\">\n",
    "    <meta name=\"viewport\" content=\"width=device-width, initial-scale=1.0\">\n",
    "    <title>Document</title>\n",
    "\n",
    "    <style>\n",
    "        /* this sets the box element's sizes to include boarder, padding and content */\n",
    "        * {\n",
    "            box-sizing: border-box;\n",
    "        }\n",
    "        /* this removed preset margins and padding, so I can set them myself, \n",
    "        and avoid unnessisary struggle/ waiste time working with defaults */\n",
    "        * {\n",
    "            margin: 0; \n",
    "            padding: 0; \n",
    "        }\n",
    "    </style>\n",
    "</head>\n",
    "<body>\n",
    "        <p>hello world</p>\n",
    "</body>\n",
    "</html>"
   ]
  },
  {
   "cell_type": "code",
   "execution_count": null,
   "metadata": {
    "vscode": {
     "languageId": "html"
    }
   },
   "outputs": [],
   "source": [
    "%%HTML\n",
    "\n",
    "<head>\n",
    "    <meta charset=\"utf-8\">\n",
    "    <meta name=\"viewport\" content=\"width=device-width, initial-scale=1.0\">\n",
    "    <title>Collapsing margins ahead! (part one)</title>\n",
    "\n",
    "    <style>\n",
    "        * {\n",
    "            margin: 0;\n",
    "            padding: 0;\n",
    "            box-sizing: border-box;\n",
    "        }\n",
    "\n",
    "        body {\n",
    "            width: 35rem;\n",
    "            margin: 1rem;\n",
    "        }\n",
    "\n",
    "        header img {\n",
    "            width: 100px;\n",
    "            height: auto;\n",
    "        }\n",
    "\n",
    "        nav {\n",
    "            margin-top: .5rem;\n",
    "            padding: .75rem;\n",
    "            border: 1px solid black;\n",
    "        }\n",
    "\n",
    "        nav a {\n",
    "            display: inline-block;\n",
    "            padding: 0 1.75rem;\n",
    "            text-decoration: none;\n",
    "        }\n",
    "    </style>\n",
    "    <script>\n",
    "    </script>\n",
    "</head>\n",
    "\n",
    "<body>\n",
    "    <header>\n",
    "        <img src=\"/images/notw.png\" alt=\"News of the Word logo\">\n",
    "        <h1>News of the Word</h1>\n",
    "        <h3>Language news you won’t find anywhere else (for good reason!)</h3>\n",
    "    </header>\n",
    "    <nav>\n",
    "        <a href=\"#\">Home</a>\n",
    "        <a href=\"#\">What’s New</a>\n",
    "        <a href=\"#\">What’s Old</a>\n",
    "        <a href=\"#\">What’s What</a>\n",
    "    </nav>\n",
    "</body>"
   ]
  },
  {
   "cell_type": "markdown",
   "metadata": {
    "id": "cmHWcd_QCzqD"
   },
   "source": [
    "#### 5. Collapsing margins ahead! (part two): [Link to My Playground](https://laurenc2022.github.io/web-dev-edu/web-coding-and-development-by-paul-mcfedries/book-two-coding-front-end-p1/ch3-sizing-and-positioning-page-elements/5-Collapsing-margins-ahead-p2.html) (pg 111)"
   ]
  },
  {
   "cell_type": "code",
   "execution_count": null,
   "metadata": {},
   "outputs": [],
   "source": [
    "%%HTML \n",
    "<!DOCTYPE html>\n",
    "<html lang=\"en\">\n",
    "    <head>\n",
    "        <meta charset=\"utf-8\">\n",
    "        <meta name=\"viewport\" content=\"width=device-width, initial-scale=1.0\">\n",
    "        <title>Collapsing margins ahead! (part two)</title>\n",
    "        \n",
    "        <style>\n",
    "            * {\n",
    "                margin: 0;\n",
    "                padding: 0;\n",
    "                box-sizing: border-box;\n",
    "            }\n",
    "            \n",
    "            body {\n",
    "                width: 35rem;\n",
    "                margin: 1rem;\n",
    "            }\n",
    "            \n",
    "            header {\n",
    "                margin-bottom: .5rem;\n",
    "            }\n",
    "            \n",
    "            header img {\n",
    "                width: 100px;\n",
    "                height: auto;\n",
    "            }\n",
    "            \n",
    "            nav {\n",
    "                margin-top: .5rem;\n",
    "                padding: .75rem;\n",
    "                border: 1px solid black;\n",
    "            }\n",
    "            \n",
    "            nav a {\n",
    "                display: inline-block;\n",
    "                padding: 0 1.75rem;\n",
    "                text-decoration: none;\n",
    "            }\n",
    "        </style>\n",
    "        <script>\n",
    "        </script>\n",
    "    </head>\n",
    "    <body>\n",
    "        <header>\n",
    "            <img src=\"/images/notw.png\" alt=\"News of the Word logo\">\n",
    "            <h1>News of the Word</h1>\n",
    "            <h3>Language news you won’t find anywhere else (for good reason!)</h3>\n",
    "        </header>\n",
    "        <nav>\n",
    "            <a href=\"#\">Home</a>\n",
    "            <a href=\"#\">What’s New</a>\n",
    "            <a href=\"#\">What’s Old</a>\n",
    "            <a href=\"#\">What’s What</a>\n",
    "        </nav>\n",
    "    </body>\n",
    "</html>"
   ]
  },
  {
   "cell_type": "markdown",
   "metadata": {
    "id": "F6v7NDMGCxru"
   },
   "source": [
    "#### 6. Getting a Grip on Page Flow: [Link to My Playground](https://laurenc2022.github.io/web-dev-edu/web-coding-and-development-by-paul-mcfedries/book-two-coding-front-end-p1/ch3-sizing-and-positioning-page-elements/6-Getting-a-Grip-on-page-flow.html) (pg 113)"
   ]
  },
  {
   "cell_type": "code",
   "execution_count": null,
   "metadata": {},
   "outputs": [],
   "source": [
    "%%HTML\n",
    "<!DOCTYPE html>\n",
    "<html lang=\"en\">\n",
    "    <head>\n",
    "        <meta charset=\"utf-8\">\n",
    "        <meta name=\"viewport\" content=\"width=device-width, initial-scale=1.0\">\n",
    "        <title>Getting a Grip on Page Flow</title>\n",
    "        \n",
    "        <style>\n",
    "            * {\n",
    "                box-sizing: border-box;\n",
    "            }\n",
    "            \n",
    "            body {\n",
    "                height: 50vh;\n",
    "                width: 30rem;\n",
    "            }\n",
    "            \n",
    "            header,\n",
    "            nav,\n",
    "            footer,\n",
    "            section,\n",
    "            aside {\n",
    "                border-top: 1px solid black;\n",
    "                border-left: 1px solid black;\n",
    "                border-right: 1px solid black;\n",
    "                font-size: 1.25rem;\n",
    "                padding: .75rem .5rem .25rem .5rem;\n",
    "            }\n",
    "            \n",
    "            footer {\n",
    "                border-bottom: 1px solid black;\n",
    "            }\n",
    "        </style>\n",
    "        <script>\n",
    "        </script>\n",
    "    </head>\n",
    "    <body>\n",
    "        <header>\n",
    "            The page header goes here.\n",
    "        </header>\n",
    "        <nav>\n",
    "            The navigation doodads go here.\n",
    "        </nav>\n",
    "        <section>\n",
    "            This is the first section of the page.\n",
    "        </section>\t\n",
    "        <section>\n",
    "            This is—you got it—the second section of the page.\n",
    "        </section>\t\n",
    "        <aside>\n",
    "            This is the witty or oh-so-interesting aside.\n",
    "        </aside>\t\n",
    "        <footer>\n",
    "            The page footer goes here.\n",
    "        </footer>\n",
    "    </body>\n",
    "</html>"
   ]
  },
  {
   "cell_type": "markdown",
   "metadata": {
    "id": "zw_BkZoeCv9k"
   },
   "source": [
    "#### 7. Floating Elements (part one): [Link to My Playground](https://laurenc2022.github.io/web-dev-edu/web-coding-and-development-by-paul-mcfedries/book-two-coding-front-end-p1/ch3-sizing-and-positioning-page-elements/7-floating-elements-p1.html) (pg 115)"
   ]
  },
  {
   "cell_type": "markdown",
   "metadata": {
    "id": "i6CUZOtRCuG2"
   },
   "source": [
    "#### 8. Floating Elements (part two): [Link to My Playground](https://laurenc2022.github.io/web-dev-edu/web-coding-and-development-by-paul-mcfedries/book-two-coding-front-end-p1/ch3-sizing-and-positioning-page-elements/8-floating-elements-p2.html)(pg 115)"
   ]
  },
  {
   "cell_type": "markdown",
   "metadata": {
    "id": "4yQ_J7s3CrXm"
   },
   "source": [
    "#### 9. Clearing your floats (part one): [Link to My Playground](https://laurenc2022.github.io/web-dev-edu/web-coding-and-development-by-paul-mcfedries/book-two-coding-front-end-p1/ch3-sizing-and-positioning-page-elements/9-clering-your-floats-p1.html)"
   ]
  },
  {
   "cell_type": "markdown",
   "metadata": {
    "id": "IV2yv72ZCpgI"
   },
   "source": [
    "#### 10. Clearing your floats (part two): [Link to My Playground](https://laurenc2022.github.io/web-dev-edu/web-coding-and-development-by-paul-mcfedries/book-two-coding-front-end-p1/ch3-sizing-and-positioning-page-elements/10-clearing-your-floats-p2.html)"
   ]
  },
  {
   "cell_type": "markdown",
   "metadata": {
    "id": "qAvKNYJcCnX4"
   },
   "source": [
    "#### 11. Collapsing containers ahead! (part one): [Link to My Playground](https://laurenc2022.github.io/web-dev-edu/web-coding-and-development-by-paul-mcfedries/book-two-coding-front-end-p1/ch3-sizing-and-positioning-page-elements/11-collapsing-containers-ahead-p1.html)"
   ]
  },
  {
   "cell_type": "markdown",
   "metadata": {
    "id": "n8PUFnYCClKb"
   },
   "source": [
    "#### 12. Collapsing containers ahead! (part two): [Link to My Playground](https://laurenc2022.github.io/web-dev-edu/web-coding-and-development-by-paul-mcfedries/book-two-coding-front-end-p1/ch3-sizing-and-positioning-page-elements/12-collapsing-containers-ahead-p2.html)"
   ]
  },
  {
   "cell_type": "markdown",
   "metadata": {
    "id": "i1-kzis3CjG9"
   },
   "source": [
    "#### 13. Collapsing containers ahead! (part three): [Link to My Playground](https://laurenc2022.github.io/web-dev-edu/web-coding-and-development-by-paul-mcfedries/book-two-coding-front-end-p1/ch3-sizing-and-positioning-page-elements/13-collapsing-containers-ahead-p3.html)"
   ]
  },
  {
   "cell_type": "markdown",
   "metadata": {
    "id": "_vQgbQuuChYQ"
   },
   "source": [
    "#### 14. Using relative positioning: [Link to My Playground](https://laurenc2022.github.io/web-dev-edu/web-coding-and-development-by-paul-mcfedries/book-two-coding-front-end-p1/ch3-sizing-and-positioning-page-elements/14-using-relative-positioning.html)\n"
   ]
  },
  {
   "cell_type": "markdown",
   "metadata": {
    "id": "Q8oONgG_Ce-H"
   },
   "source": [
    "#### 15. giving absolute positioning a whirl: [Link to My Playground](https://laurenc2022.github.io/web-dev-edu/web-coding-and-development-by-paul-mcfedries/book-two-coding-front-end-p1/ch3-sizing-and-positioning-page-elements/15-giving-absolute-positioning-a-whirl.html) \n",
    "\n"
   ]
  },
  {
   "cell_type": "markdown",
   "metadata": {
    "id": "x1ETic5HCc5S"
   },
   "source": [
    "#### 16. Trying out fixed positioning: [Link to My Playground](https://laurenc2022.github.io/web-dev-edu/web-coding-and-development-by-paul-mcfedries/book-two-coding-front-end-p1/ch3-sizing-and-positioning-page-elements/16-trying-out-fixed-positioning.html)"
   ]
  },
  {
   "cell_type": "markdown",
   "metadata": {
    "id": "ObjwQs4u6mkL"
   },
   "source": [
    "### Chaper 4: Creating a Page Layout"
   ]
  },
  {
   "cell_type": "markdown",
   "metadata": {
    "id": "qp6ah5Fe6qKH"
   },
   "source": [
    "- **There are 4 options for page layout:** Foats, inline blocks, flexbox, CSS grid "
   ]
  },
  {
   "cell_type": "markdown",
   "metadata": {
    "id": "wxZhLDYHEmd-"
   },
   "source": [
    "#### 1. Laying Out Page Elements with Floats: [Link to My Playground](https://laurenc2022.github.io/web-dev-edu/web-coding-and-development-by-paul-mcfedries/book-two-coding-front-end-p1/ch4-creating-a-page-layout/1-Laying-out-page-elements-with-floats.html)"
   ]
  },
  {
   "cell_type": "markdown",
   "metadata": {
    "id": "7J6A9LY2EkXV"
   },
   "source": [
    "#### 2. Laying Out Page Elements with Floats (second example): [Link to My Playground](https://laurenc2022.github.io/web-dev-edu/web-coding-and-development-by-paul-mcfedries/book-two-coding-front-end-p1/ch4-creating-a-page-layout/2-Laying-out-page-elements-with-floats-ex2.html) "
   ]
  },
  {
   "cell_type": "markdown",
   "metadata": {
    "id": "OQVXo31JEhKq"
   },
   "source": [
    "#### 3. Laying Out Page Elements with Inline Blocks: [Link to Playground](https://laurenc2022.github.io/web-dev-edu/web-coding-and-development-by-paul-mcfedries/book-two-coding-front-end-p1/ch4-creating-a-page-layout/3-Laying-out-page-elements-with-inline-blocks.html)"
   ]
  },
  {
   "cell_type": "markdown",
   "metadata": {
    "id": "S9CvFmCQEfTs"
   },
   "source": [
    "\n",
    "#### 4. Laying Out Page Elements with Inline Blocks (second example): [Link to My Playground](https://laurenc2022.github.io/web-dev-edu/web-coding-and-development-by-paul-mcfedries/book-two-coding-front-end-p1/ch4-creating-a-page-layout/4-Laying-Out-page-elements-with-inline-blocks-ex2.html)"
   ]
  },
  {
   "cell_type": "markdown",
   "metadata": {
    "id": "4-O4vpiiEdUl"
   },
   "source": [
    "#### 5. Setting up the flex container: [Link to My Playground](https://laurenc2022.github.io/web-dev-edu/web-coding-and-development-by-paul-mcfedries/book-two-coding-front-end-p1/ch4-creating-a-page-layout/5-Setting-up-the-flex-container.html)"
   ]
  },
  {
   "cell_type": "markdown",
   "metadata": {
    "id": "2sgIcL1pEbRW"
   },
   "source": [
    "#### 6. Aligning flex items along the primary axis: [Link to My Playground](https://laurenc2022.github.io/web-dev-edu/web-coding-and-development-by-paul-mcfedries/book-two-coding-front-end-p1/ch4-creating-a-page-layout/6-Aligning-flex-items-along-the-primary-axis.html)"
   ]
  },
  {
   "cell_type": "markdown",
   "metadata": {
    "id": "kZpHNS7bEZHi"
   },
   "source": [
    "#### 7. Aligning flex items along the secondary axis: [Link to My Playground](https://laurenc2022.github.io/web-dev-edu/web-coding-and-development-by-paul-mcfedries/book-two-coding-front-end-p1/ch4-creating-a-page-layout/7-Aligning-flex-items-along-the-secondary-axis.html)"
   ]
  },
  {
   "cell_type": "markdown",
   "metadata": {
    "id": "slNiFk4TEXWz"
   },
   "source": [
    "#### 8. Centering an element horizontally and vertically: [Link to My Playground](https://laurenc2022.github.io/web-dev-edu/web-coding-and-development-by-paul-mcfedries/book-two-coding-front-end-p1/ch4-creating-a-page-layout/8-Centering-an-element-horizontally-and-vertically.html)"
   ]
  },
  {
   "cell_type": "markdown",
   "metadata": {
    "id": "eJe8gcR5EVSz"
   },
   "source": [
    "#### 9. Laying out a navigation bar with flexbox: [Link to My Playground](https://laurenc2022.github.io/web-dev-edu/web-coding-and-development-by-paul-mcfedries/book-two-coding-front-end-p1/ch4-creating-a-page-layout/9-Laying-out-a-navigation-bar-with-flexbox.html) "
   ]
  },
  {
   "cell_type": "markdown",
   "metadata": {
    "id": "xaMgX2ERETMd"
   },
   "source": [
    "#### 10. Allowing flex items to grow (first example): [Link to My Playground](https://laurenc2022.github.io/web-dev-edu/web-coding-and-development-by-paul-mcfedries/book-two-coding-front-end-p1/ch4-creating-a-page-layout/10-Allowing-flex-items-to-grow-ex1.html) "
   ]
  },
  {
   "cell_type": "markdown",
   "metadata": {
    "id": "C3614M5KERGE"
   },
   "source": [
    "#### 11. Allowing flex items to grow (second example): [Link to My Playground](https://laurenc2022.github.io/web-dev-edu/web-coding-and-development-by-paul-mcfedries/book-two-coding-front-end-p1/ch4-creating-a-page-layout/11-Allowing-flex-items-to-grow-ex2.html)"
   ]
  },
  {
   "cell_type": "markdown",
   "metadata": {
    "id": "Ei5EoYTFDk4V"
   },
   "source": [
    "#### 12. Allowing flex items to grow (third example): [Link to My Playground](https://laurenc2022.github.io/web-dev-edu/web-coding-and-development-by-paul-mcfedries/book-two-coding-front-end-p1/ch4-creating-a-page-layout/12-Allowing-flex-items-to-grow-ex3.html)"
   ]
  },
  {
   "cell_type": "markdown",
   "metadata": {
    "id": "9JLBiOTADixP"
   },
   "source": [
    "#### 13. Allowing flex items to grow (fourth example): [Link to My Playground](https://laurenc2022.github.io/web-dev-edu/web-coding-and-development-by-paul-mcfedries/book-two-coding-front-end-p1/ch4-creating-a-page-layout/13-Allowing-flex-items-to-grow-ex4.html)\n"
   ]
  },
  {
   "cell_type": "markdown",
   "metadata": {
    "id": "3vy8d07SDgUa"
   },
   "source": [
    "#### 14. Allowing flex items to shrink (first example: [Link to My Playground](https://laurenc2022.github.io/web-dev-edu/web-coding-and-development-by-paul-mcfedries/book-two-coding-front-end-p1/ch4-creating-a-page-layout/14-Allowing-flex-items-to-shrink-ex1.html)"
   ]
  },
  {
   "cell_type": "markdown",
   "metadata": {
    "id": "T67TVrVBDef-"
   },
   "source": [
    "#### 15. Allowing flex items to shrink (second example): [Link to My Playground](https://laurenc2022.github.io/web-dev-edu/web-coding-and-development-by-paul-mcfedries/book-two-coding-front-end-p1/ch4-creating-a-page-layout/15-Allowing-flex-items-to-shrink-ex2.html)"
   ]
  },
  {
   "cell_type": "markdown",
   "metadata": {
    "id": "bHrj9HyHDcfK"
   },
   "source": [
    "#### 16. Allowing flex items to shrink (third example): [Link to My Playground](https://laurenc2022.github.io/web-dev-edu/web-coding-and-development-by-paul-mcfedries/book-two-coding-front-end-p1/ch4-creating-a-page-layout/16-Allowing-flex-items-to-shrink-ex3.html)"
   ]
  },
  {
   "cell_type": "markdown",
   "metadata": {
    "id": "xcYZcuyDDZ2I"
   },
   "source": [
    "#### 17. Allowing flex items to shrink (fourth example): [Link to My Playground](https://laurenc2022.github.io/web-dev-edu/web-coding-and-development-by-paul-mcfedries/book-two-coding-front-end-p1/ch4-creating-a-page-layout/17-Allowing-flex-items-to-shrink-ex4.html) "
   ]
  },
  {
   "cell_type": "markdown",
   "metadata": {
    "id": "L9LtcfHVDXxB"
   },
   "source": [
    "#### 18. Laying content columns with flexbox: [Link to My Playground](https://laurenc2022.github.io/web-dev-edu/web-coding-and-development-by-paul-mcfedries/book-two-coding-front-end-p1/ch4-creating-a-page-layout/18-Laying-content-columns-with-flexbox.html)"
   ]
  },
  {
   "cell_type": "markdown",
   "metadata": {
    "id": "5eU0sqxIDVmv"
   },
   "source": [
    "#### 19. Specifying the grid rows and columns: [Link to My Playground](https://laurenc2022.github.io/web-dev-edu/web-coding-and-development-by-paul-mcfedries/book-two-coding-front-end-p1/ch4-creating-a-page-layout/19-Specifying-the-grid-rows-and-columns.html)"
   ]
  },
  {
   "cell_type": "markdown",
   "metadata": {
    "id": "OV6PhXQnDTha"
   },
   "source": [
    "\n",
    "#### 20. Creating grid gaps: [Link to My Playground](https://laurenc2022.github.io/web-dev-edu/web-coding-and-development-by-paul-mcfedries/book-two-coding-front-end-p1/ch4-creating-a-page-layout/20-Creating-grid-gaps.html) "
   ]
  },
  {
   "cell_type": "markdown",
   "metadata": {
    "id": "G0bYEQUoDRPD"
   },
   "source": [
    "#### 21. Assigning grid items to rows and columns: [Link to My Playground](https://laurenc2022.github.io/web-dev-edu/web-coding-and-development-by-paul-mcfedries/book-two-coding-front-end-p1/ch4-creating-a-page-layout/21-Assigning-grid-items-to-rows-and-columns.html)"
   ]
  },
  {
   "cell_type": "markdown",
   "metadata": {
    "id": "NWc4NbA9DPDL"
   },
   "source": [
    "#### 22. Laying content columns with Grid: [Link to My Playground](https://laurenc2022.github.io/web-dev-edu/web-coding-and-development-by-paul-mcfedries/book-two-coding-front-end-p1/ch4-creating-a-page-layout/22-Laying-content-columns-with-Grid.html)"
   ]
  }
 ],
 "metadata": {
  "colab": {
   "authorship_tag": "ABX9TyOO/AYJZjq4PkTY9HxO6/ly",
   "provenance": [],
   "toc_visible": true
  },
  "kernelspec": {
   "display_name": "Python 3 (ipykernel)",
   "language": "python",
   "name": "python3"
  },
  "language_info": {
   "codemirror_mode": {
    "name": "ipython",
    "version": 3
   },
   "file_extension": ".py",
   "mimetype": "text/x-python",
   "name": "python",
   "nbconvert_exporter": "python",
   "pygments_lexer": "ipython3",
   "version": "3.9.13"
  },
  "vscode": {
   "interpreter": {
    "hash": "31f2aee4e71d21fbe5cf8b01ff0e069b9275f58929596ceb00d14d90e3e16cd6"
   }
  }
 },
 "nbformat": 4,
 "nbformat_minor": 4
}
