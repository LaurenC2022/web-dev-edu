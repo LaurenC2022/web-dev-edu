{
 "cells": [
  {
   "cell_type": "markdown",
   "metadata": {
    "id": "JmsBdgQN4_tX"
   },
   "source": [
    "# MDN Web Docs - Front End Web Dev Path"
   ]
  },
  {
   "cell_type": "markdown",
   "metadata": {
    "id": "L8N_QZSO4-O3"
   },
   "source": [
    "## Semantics and structure with HTML"
   ]
  },
  {
   "cell_type": "markdown",
   "metadata": {
    "id": "wJ39u4Hy5Hj9"
   },
   "source": [
    "### Introduction to HTML \n"
   ]
  },
  {
   "cell_type": "markdown",
   "metadata": {
    "id": "ByV8fDDlP0TB"
   },
   "source": [
    "#### Getting Started with HTML \n",
    "  - [Practice Browser Output PRACTICE ASSIGNMENTS](https://laurenc2022.github.io/web-dev-edu/mdn-web-docs/intro-to-html/1-getting-started-with-html/title-example.html)"
   ]
  },
  {
   "cell_type": "markdown",
   "metadata": {
    "id": "i-uzn1QsPY4E"
   },
   "source": [
    "#### What's in the Head? Metadata in HTML\n",
    "  - [Practice Browser Output PRACTICE ASSIGNMENTS](https://laurenc2022.github.io/web-dev-edu/mdn-web-docs/intro-to-html/2-whats-in-th-head-metadata-in-html/meta-example.html)"
   ]
  },
  {
   "cell_type": "markdown",
   "metadata": {
    "id": "JHRqV--jAfDY"
   },
   "source": [
    "#### HTML Text Fundamentals \n",
    "  - [Practice Browser Output PRACTICE ASSIGNMENTS](https://laurenc2022.github.io/web-dev-edu/mdn-web-docs/intro-to-html/3-html-text-fundamentals/text-start.html)\n",
    "        "
   ]
  },
  {
   "cell_type": "markdown",
   "metadata": {
    "id": "Ryy8yME5Pk1a"
   },
   "source": [
    "#### Test your skills: HTML text basics PRACTICE ASSIGNMENTS\n",
    "\n",
    "  - [Practice 1](https://laurenc2022.github.io/web-dev-edu/mdn-web-docs/intro-to-html/3-html-text-fundamentals/test-your-skills/basic-text1-download.html): Practice with html paragraph and semantic headings \n",
    "  - [Practice 2](https://laurenc2022.github.io/web-dev-edu/mdn-web-docs/intro-to-html/3-html-text-fundamentals/test-your-skills/basic-text2-download.html): Practice with \n",
    "  - [Practice 3](https://laurenc2022.github.io/web-dev-edu/mdn-web-docs/intro-to-html/3-html-text-fundamentals/test-your-skills/basic-text3-download.html): Practice with strong importance and emphasis, **semantic elements** "
   ]
  },
  {
   "cell_type": "markdown",
   "metadata": {
    "id": "IDv1t_w4PI80"
   },
   "source": [
    "#### [Creating hyperlinks](mdn-web-docs/intro-to-html/4-creating-hyperlinks/creating-hyper-links-assignment1/assignment1.html)\n",
    "\n",
    "  - [Creating hyperlinks: PRACTICE ASSIGNMENT 1](https://laurenc2022.github.io/web-dev-edu/mdn-web-docs/intro-to-html/4-creating-hyperlinks/index.html)\n",
    "\n",
    "  - Note: A URL can point to HTML files, text files, images, text documents, video and audio files, or anything else that lives on the Web\n",
    "\n",
    "  - Anatomy of a link: \n",
    "    - <a> element with attrubutes: \n",
    "      - href\n",
    "      - title: contains non critical info about link, title information is less accessible\n",
    "\n",
    "- URL, or Uniform Resource Locator \n",
    "\n",
    "- Moving back up into parent directories. each \"..\" will move back a directory. Ex: \n",
    "  - ../../../complex/path/to/my/file.html (moves back 3 directory/ folder)\n",
    "  - ../pdfs/project-brief.pdf (moves back 1 directory/ folder)"
   ]
  },
  {
   "cell_type": "markdown",
   "metadata": {
    "id": "-Xkj-ihnYf0f"
   },
   "source": [
    "##### Document fragment, example: "
   ]
  },
  {
   "cell_type": "markdown",
   "metadata": {
    "id": "jOO8NqGpa6zA"
   },
   "source": [
    "- use id to identify aspect of page:"
   ]
  },
  {
   "cell_type": "code",
   "execution_count": null,
   "metadata": {
    "id": "-QtZVPHMZbeL",
    "tags": []
   },
   "outputs": [],
   "source": [
    "%%HTML\n",
    " <h2 id=\"Mailing_address\">Mailing address</h2> "
   ]
  },
  {
   "cell_type": "markdown",
   "metadata": {
    "id": "CcFIvLnua-XG"
   },
   "source": [
    "- add #id_name to end of url"
   ]
  },
  {
   "cell_type": "code",
   "execution_count": null,
   "metadata": {
    "id": "f2F_QF3LYqE_",
    "tags": []
   },
   "outputs": [],
   "source": [
    "%%HTML\n",
    "<p>\n",
    "  Want to write us a letter? Use our\n",
    "  <a href=\"contacts.html#Mailing_address\">mailing address</a>.\n",
    "</p>\n"
   ]
  },
  {
   "cell_type": "markdown",
   "metadata": {
    "id": "G0vq-T5EbEu9"
   },
   "source": [
    "##### absolute vs. relative path\n",
    "- absolute URL: www.example.com/projects/index.html\n",
    "\n",
    "- relative URL: projects/index.html\n",
    "  - A relative URL will point to different places depending on the actual location of the file you refer from "
   ]
  },
  {
   "cell_type": "markdown",
   "metadata": {
    "id": "WU5L_qi1cLEJ"
   },
   "source": [
    "##### best practices: \n",
    "  - Screen reader users like jumping around from link to link \n",
    "  - Use clear wording, like keywords (SEO type words) to describe links\n",
    "    - Good example: Download Firefox\n",
    "    - bad example: Click here\n",
    "  - Keep your link text as short as possible"
   ]
  },
  {
   "cell_type": "markdown",
   "metadata": {
    "id": "-P08LgglQPbe"
   },
   "source": [
    "- [Advanced Text Formatting](https://developer.mozilla.org/en-US/docs/Learn/HTML/Introduction_to_HTML/Advanced_text_formatting)"
   ]
  },
  {
   "cell_type": "markdown",
   "metadata": {
    "id": "vN-5ZutuQi5V"
   },
   "source": [
    "- [Document and website structure](https://developer.mozilla.org/en-US/docs/Learn/HTML/Introduction_to_HTML/Document_and_website_structure)"
   ]
  },
  {
   "cell_type": "markdown",
   "metadata": {
    "id": "Qiqc6nsfQv8e"
   },
   "source": [
    "- [Debuggin HTML](https://developer.mozilla.org/en-US/docs/Learn/HTML/Introduction_to_HTML/Debugging_HTML)"
   ]
  },
  {
   "cell_type": "markdown",
   "metadata": {
    "id": "okHzzSj6Q5AN"
   },
   "source": [
    "- [Assessments](https://developer.mozilla.org/en-US/docs/Learn/HTML/Introduction_to_HTML#assessments)\n",
    "  - [Marking up a letter](https://developer.mozilla.org/en-US/docs/Learn/HTML/Introduction_to_HTML/Marking_up_a_letter)\n",
    "  - [Structuring a page of content](https://developer.mozilla.org/en-US/docs/Learn/HTML/Introduction_to_HTML/Structuring_a_page_of_content)"
   ]
  },
  {
   "cell_type": "markdown",
   "metadata": {},
   "source": [
    "##### non-html resources"
   ]
  },
  {
   "cell_type": "markdown",
   "metadata": {},
   "source": [
    "- add description of how link will be handled if not intuative (download, steamed, note flash/extention is required)\n",
    "- Use the download attribute when linking to a download. Download attribute to provide a default save filename"
   ]
  },
  {
   "cell_type": "markdown",
   "metadata": {},
   "source": [
    "[Active learning: creating a navigation menu ASSIGNMENT 2\n",
    "](https://laurenc2022.github.io/web-dev-edu/mdn-web-docs/intro-to-html/4-creating-hyperlinks/active-learning-creating-nav-menu-assignment/assignment2.html)"
   ]
  },
  {
   "cell_type": "markdown",
   "metadata": {},
   "source": [
    "- mailto: indicates email address \n",
    "- use a black mailto: with no email to prompt user to share content with their contacts (see example 1)\n",
    "- Details can be added using a query (see example 2)"
   ]
  },
  {
   "cell_type": "code",
   "execution_count": null,
   "metadata": {
    "vscode": {
     "languageId": "html"
    }
   },
   "outputs": [],
   "source": [
    "# Example 1\n",
    "%%HTML\n",
    "\n",
    "<a href=\"mailto:nowhere@mozilla.org\">Send email to nowhere</a>\n"
   ]
  },
  {
   "cell_type": "markdown",
   "metadata": {},
   "source": [
    "- Example 2: "
   ]
  },
  {
   "cell_type": "code",
   "execution_count": null,
   "metadata": {
    "vscode": {
     "languageId": "html"
    }
   },
   "outputs": [],
   "source": [
    "\n",
    "%%HTML\n",
    "<a href=\"mailto:nowhere@mozilla.org?cc=name2@rapidtables.com&bcc=name3@rapidtables.com&subject=The%20subject%20of%20the%20email&body=The%20body%20of%20the%20email\">\n",
    "  Send mail with cc, bcc, subject and body\n",
    "</a>\n"
   ]
  },
  {
   "cell_type": "markdown",
   "metadata": {},
   "source": [
    "Test your skills: Links"
   ]
  },
  {
   "cell_type": "markdown",
   "metadata": {},
   "source": [
    "- Task 1"
   ]
  },
  {
   "cell_type": "code",
   "execution_count": null,
   "metadata": {
    "vscode": {
     "languageId": "html"
    }
   },
   "outputs": [],
   "source": [
    "\n",
    "%%HTML\n",
    "<head>\n",
    "    <meta charset=\"utf-8\" />\n",
    "    <title>Links: Task 1</title>\n",
    "    <style>\n",
    "        body {\n",
    "            /* background-color: #fff; */\n",
    "            color: #333;\n",
    "            font: 1em / 1.4 Helvetica Neue, Helvetica, Arial, sans-serif;\n",
    "            padding: 1em;\n",
    "            margin: 0;\n",
    "        }\n",
    "\n",
    "        h1 {\n",
    "            font-size: 2rem;\n",
    "            margin: 0;\n",
    "            color: purple;\n",
    "        }\n",
    "\n",
    "        p {\n",
    "            color: gray;\n",
    "            margin: 0.5em 0;\n",
    "        }\n",
    "\n",
    "        * {\n",
    "            box-sizing: border-box;\n",
    "        }\n",
    "    </style>\n",
    "</head>\n",
    "\n",
    "<body>\n",
    "\n",
    "    <h1>Information on Whales</h1>\n",
    "\n",
    "    <p>For more information on our conservation activities and which Whales we study,\n",
    "        see our <a title=\"Blue Whales and Sperm Whales information\" href=\"../mdn-web-docs/intro-to-html/4-creating-hyperlinks/test-your-skills/whales.html\" target=\"_blank\">Whales page</a>.</p>\n",
    "\n",
    "    <p>If you want to ask our team more questions, feel free to <a href=\"mailto:whales@example.com?subject=Question%20about%20Whales\">email us</a>.</p>\n",
    "\n",
    "</body>"
   ]
  },
  {
   "cell_type": "markdown",
   "metadata": {},
   "source": [
    "- Task 2"
   ]
  },
  {
   "cell_type": "code",
   "execution_count": null,
   "metadata": {
    "vscode": {
     "languageId": "html"
    }
   },
   "outputs": [],
   "source": [
    "%%HTML\n",
    "<head>\n",
    "    <meta charset=\"utf-8\" />\n",
    "    <title>Links: Task 2</title>\n",
    "    <style>\n",
    "        body {\n",
    "            /* background-color: #fff; */\n",
    "            color: #333;\n",
    "            font: 1em / 1.4 Helvetica Neue, Helvetica, Arial, sans-serif;\n",
    "            padding: 1em;\n",
    "            margin: 0;\n",
    "        }\n",
    "\n",
    "        h1 {\n",
    "            font-size: 2rem;\n",
    "            margin: 0;\n",
    "            color: purple;\n",
    "        }\n",
    "\n",
    "        li {\n",
    "            color: gray;\n",
    "            margin: 0.5em 0;\n",
    "        }\n",
    "\n",
    "        div {\n",
    "            height: 600px;\n",
    "        }\n",
    "    </style>\n",
    "</head>\n",
    "\n",
    "<body>\n",
    "\n",
    "    <h1>List path tests</h1>\n",
    "\n",
    "    <ul>\n",
    "        <li><a href=\"https://laurenc2022.github.io/web-dev-edu//mdn-web-docs/intro-to-html/4-creating-hyperlinks/test-your-skills/blue/blue-whale.jpg\" target=\"_blank\">Link me to the blue whale image</a></li>\n",
    "        <li><a href=\"https://laurenc2022.github.io/web-dev-edu//mdn-web-docs/intro-to-html/4-creating-hyperlinks/test-your-skills/blue/narwhal/narwhal.jpg\" target=\"_blank\">Link me to the narwhal image</a></li>\n",
    "        <li><a href=\"https://www.google.co.uk/imghp\" target=\"_blank\">Link me to Google image search</a></li>\n",
    "        <li><a href=\"mdn_front_end_web_dev_path.ipynb#bottom\">Link me to the paragraph at the bottom of the page</a></li>\n",
    "    </ul>\n",
    "\n",
    "    <div></div>\n",
    "\n",
    "    <p id=\"bottom\">The bottom of the page!</p>\n",
    "\n",
    "</body>"
   ]
  },
  {
   "cell_type": "markdown",
   "metadata": {},
   "source": [
    "- Task 3"
   ]
  },
  {
   "cell_type": "code",
   "execution_count": null,
   "metadata": {
    "vscode": {
     "languageId": "html"
    }
   },
   "outputs": [],
   "source": [
    "%%HTML\n",
    "  <head>\n",
    "    <meta charset=\"utf-8\"/>\n",
    "    <title>Links: Task 3</title>\n",
    "    <style>\n",
    "      body {\n",
    "        /* background-color: #fff; */\n",
    "        color: #333;\n",
    "        font: 1em / 1.4 Helvetica Neue, Helvetica, Arial, sans-serif;\n",
    "        padding: 1em;\n",
    "        margin: 0;\n",
    "      }\n",
    "\n",
    "      p {\n",
    "        color: gray;\n",
    "        margin: 0.5em 0;\n",
    "      }\n",
    "\n",
    "      * {\n",
    "        box-sizing: border-box;\n",
    "      }\n",
    "    </style>\n",
    "  </head>\n",
    "\n",
    "  <body>\n",
    "\n",
    "    <p>We do lots of work with Narwhals. To find out more about this work, <a href=\"narwhals.html\" target=\"_blank\">read our Narwals work information page</a>.</p>\n",
    "\n",
    "    <p>You can <a href=\"mailto:whales@example.com\">email our support team</a> if you have any more questions to do so.</p>\n",
    "\n",
    "    <p>You can also <a href=\"factfile.pdf\" target=\"_blank\">download our factile (4MB)</a>, which contains lots more information, including an FAQ.</p>\n",
    "  </body>"
   ]
  },
  {
   "cell_type": "markdown",
   "metadata": {},
   "source": [
    "#### Advanced Text Formatting "
   ]
  },
  {
   "cell_type": "markdown",
   "metadata": {},
   "source": [
    "Description Lists: \n",
    "   - dl tag: includes term and definition or character and speach \n",
    "   - dt tag: term or character being described or talking, is within the dl tag \n",
    "   - dd tag: the definition or words for the character \n",
    "        - multiple descriptions is possible"
   ]
  },
  {
   "cell_type": "markdown",
   "metadata": {},
   "source": [
    "##### Active learning: Marking up a set of definitions ASSIGNMENT"
   ]
  },
  {
   "cell_type": "code",
   "execution_count": null,
   "metadata": {},
   "outputs": [],
   "source": [
    "%%html\n",
    "<dl>\n",
    "    <dt>Bacon</dt>\n",
    "        <dd>The glue that binds the world together.</dd>\n",
    "    <dt>Eggs</dt>\n",
    "        <dd>The glue that binds the cake together.</dd>\n",
    "    <dt>Coffee</dt>\n",
    "        <dd>The drink that gets the world running in the morning.</dd>\n",
    "        <dd>A light brown color.</dd>\n",
    "</dl>"
   ]
  },
  {
   "cell_type": "markdown",
   "metadata": {},
   "source": [
    "[Quotations](https://developer.mozilla.org/en-US/docs/Learn/HTML/Introduction_to_HTML/Advanced_text_formatting#quotations)"
   ]
  },
  {
   "cell_type": "markdown",
   "metadata": {},
   "source": [
    "Abbreviations: \n",
    "- abbr tag: "
   ]
  },
  {
   "cell_type": "code",
   "execution_count": null,
   "metadata": {},
   "outputs": [],
   "source": [
    "%%HTML\n",
    "<p>\n",
    "  We use <abbr>HTML</abbr>, Hypertext Markup Language, to structure our web\n",
    "  documents.\n",
    "</p>\n",
    "\n",
    "<p>\n",
    "  I think <abbr title=\"Reverend\">Rev.</abbr> Green did it in the kitchen with\n",
    "  the chainsaw.\n",
    "</p>"
   ]
  },
  {
   "cell_type": "markdown",
   "metadata": {},
   "source": [
    "Addresses \n",
    "- <address>\n",
    "- should only be used to provide contact information for the document contained with the nearest <article> or <body> element \n",
    "    - It would be correct to use it in the footer or inside an article for the contact details of the author\n",
    "    - do not use to mark up a list of addresses unrelated to the content of that page."
   ]
  },
  {
   "cell_type": "code",
   "execution_count": null,
   "metadata": {},
   "outputs": [],
   "source": [
    "%%HTML\n",
    "<address>Chris Mills, Manchester, The Grim North, UK</address>"
   ]
  },
  {
   "cell_type": "code",
   "execution_count": null,
   "metadata": {},
   "outputs": [],
   "source": [
    "%%HTML\n",
    "<address>\n",
    "  <p>\n",
    "    Chris Mills<br />\n",
    "    Manchester<br />\n",
    "    The Grim North<br />\n",
    "    UK\n",
    "  </p>\n",
    "\n",
    "  <ul>\n",
    "    <li>Tel: 01234 567 890</li>\n",
    "    <li>Email: me@grim-north.co.uk</li>\n",
    "  </ul>\n",
    "</address>\n"
   ]
  },
  {
   "cell_type": "markdown",
   "metadata": {},
   "source": [
    "Representing computer code\n",
    "There are a number of elements available for marking up computer code using HTML:\n",
    "\n",
    "<code>: For marking up generic pieces of computer code.\n",
    "<pre>: For retaining whitespace (generally code blocks) — if you use indentation or excess whitespace inside your text, browsers will ignore it and you will not see it on your rendered page. If you wrap the text in <pre></pre> tags however, your whitespace will be rendered identically to how you see it in your text editor.\n",
    "<var>: For specifically marking up variable names.\n",
    "<kbd>: For marking up keyboard (and other types of) input entered into the computer.\n",
    "<samp>: For marking up the output of a computer program."
   ]
  },
  {
   "cell_type": "markdown",
   "metadata": {},
   "source": [
    "Time and Date: \n",
    "- provides machine readable date for users to add dates in calendars with a click of a button"
   ]
  },
  {
   "cell_type": "code",
   "execution_count": null,
   "metadata": {},
   "outputs": [],
   "source": [
    "%%HTML \n",
    "<!-- Standard simple date -->\n",
    "<time datetime=\"2016-01-20\">20 January 2016</time>\n",
    "<!-- Just year and month -->\n",
    "<time datetime=\"2016-01\">January 2016</time>\n",
    "<!-- Just month and day -->\n",
    "<time datetime=\"01-20\">20 January</time>\n",
    "<!-- Just time, hours and minutes -->\n",
    "<time datetime=\"19:30\">19:30</time>\n",
    "<!-- You can do seconds and milliseconds too! -->\n",
    "<time datetime=\"19:30:01.856\">19:30:01.856</time>\n",
    "<!-- Date and time -->\n",
    "<time datetime=\"2016-01-20T19:30\">7.30pm, 20 January 2016</time>\n",
    "<!-- Date and time with timezone offset -->\n",
    "<time datetime=\"2016-01-20T19:30+01:00\">\n",
    "  7.30pm, 20 January 2016 is 8.30pm in France\n",
    "</time>\n",
    "<!-- Calling out a specific week number -->\n",
    "<time datetime=\"2016-W04\">The fourth week of 2016</time>"
   ]
  },
  {
   "cell_type": "markdown",
   "metadata": {},
   "source": [
    "#### Test your skills: Advanced HTML text"
   ]
  },
  {
   "cell_type": "markdown",
   "metadata": {},
   "source": [
    "##### Terms\n",
    "\n",
    "- semantic/semantically: "
   ]
  },
  {
   "cell_type": "markdown",
   "metadata": {},
   "source": [
    "##### Task 1 "
   ]
  },
  {
   "cell_type": "code",
   "execution_count": null,
   "metadata": {},
   "outputs": [],
   "source": [
    "%%HTML \n",
    "\n",
    "<head>\n",
    "    <style>\n",
    "        h1 {\n",
    "          font-size: 2rem;\n",
    "          margin: 0;\n",
    "          color: purple;\n",
    "        }\n",
    "\n",
    "        dl {\n",
    "          color: gray;\n",
    "          margin: 0.5em 0;\n",
    "        }\n",
    "\n",
    "        dt {\n",
    "          font-weight: bold;\n",
    "          color: purple;\n",
    "        }\n",
    "    </style>\n",
    "</head>\n",
    "\n",
    "<body>\n",
    "    <h1>Advanced HTML Animals</h1>\n",
    "        <dl>\n",
    "            <dt>Llama</dt>\n",
    "                <dd>Tall, wooly quadruped, pointy ears. Sometimes rideable, but grumpy and spits a lot. Big fan of list items.</dd>\n",
    "            <dt>Anaconda</dt>\n",
    "                <dd>A very large constrictor snake; travels rapidly by way of anchors to sneak up on his prey.</dd>\n",
    "            <dt>Hippopotamus<dt>\n",
    "                <dd>His description is bottomless.</dd>\n",
    "        </dl>\n",
    "</body>\n"
   ]
  },
  {
   "cell_type": "markdown",
   "metadata": {},
   "source": [
    "##### Task 2\n",
    "\n",
    "In this task, we want you to add some semantics to the provided HTML as follows:\n",
    "\n",
    "- Turn the second paragraph into a block-level quote, and semantically indicate that the quote is taken from Accessibility.\n",
    "- Semantically mark up \"HTML\" and \"CSS\" as acronyms, providing expansions as tooltips.\n",
    "- Use subscript and superscript to provide correct semantics for the chemical formulae and dates, and make them display correctly.\n",
    "- Semantically associate machine-readable dates with the dates in the text."
   ]
  },
  {
   "cell_type": "code",
   "execution_count": 9,
   "metadata": {},
   "outputs": [
    {
     "data": {
      "text/html": [
       "<head>\n",
       "    <style>\n",
       "        h1 {\n",
       "            font-size: 2rem;\n",
       "          margin: 0;\n",
       "          color: purple;\n",
       "        }\n",
       "\n",
       "        p {\n",
       "          margin: 0.5em 0;\n",
       "        }\n",
       "\n",
       "        abbr, time {\n",
       "          color: green;\n",
       "        }\n",
       "    </style>\n",
       "</head>\n",
       "<body>\n",
       "    <h1>Advanced text semantics</h1>\n",
       "\n",
       "    <p>Let's start with a quote(<a href=\"https://developer.mozilla.org/en-US/docs/Learn/Accessibility\">Quote Source: Accessibility</a>):</p>\n",
       "\n",
       "    <blockquote cite=\"https://developer.mozilla.org/en-US/docs/Learn/Accessibility\">\n",
       "        <p>By default, <a title=\"Hypertext Markup Language\"><abbr>HTML</abbr></a> is accessible, if used correctly.</p>\n",
       "    </blockquote>\n",
       "    \n",
       "        \n",
       "    <p><a title=\"Cascading Style Sheets\"><abbr>CSS</abbr></a> can also be used to make web pages more, or less, accessible.</p>\n",
       "\n",
       "    <p>Chemical Formulae: H<sub>2</sub>O (Water), C<sub>2</sub>H<sub>6</sub>O (Ethanol).</p>\n",
       "\n",
       "    <p>Dates: <time datetime=\"2019-25-25\">December 25<sup>th</sup> 2019</time> (Christmas Day), <time datetime=\"2019-11-02\">November 2<sup>nd</sup> 2019</time> (Día de los Muertos).</p>\n",
       "</body>\n"
      ],
      "text/plain": [
       "<IPython.core.display.HTML object>"
      ]
     },
     "metadata": {},
     "output_type": "display_data"
    }
   ],
   "source": [
    "%%HTML \n",
    "<head>\n",
    "    <style>\n",
    "        h1 {\n",
    "            font-size: 2rem;\n",
    "          margin: 0;\n",
    "          color: purple;\n",
    "        }\n",
    "\n",
    "        p {\n",
    "          margin: 0.5em 0;\n",
    "        }\n",
    "\n",
    "        abbr, time {\n",
    "          color: green;\n",
    "        }\n",
    "    </style>\n",
    "</head>\n",
    "<body>\n",
    "    <h1>Advanced text semantics</h1>\n",
    "\n",
    "    <p>Let's start with a quote(<a href=\"https://developer.mozilla.org/en-US/docs/Learn/Accessibility\">Quote Source: Accessibility</a>):</p>\n",
    "\n",
    "    <blockquote cite=\"https://developer.mozilla.org/en-US/docs/Learn/Accessibility\">\n",
    "        <p>By default, <a title=\"Hypertext Markup Language\"><abbr>HTML</abbr></a> is accessible, if used correctly.</p>\n",
    "    </blockquote>\n",
    "    \n",
    "        \n",
    "    <p><a title=\"Cascading Style Sheets\"><abbr>CSS</abbr></a> can also be used to make web pages more, or less, accessible.</p>\n",
    "\n",
    "    <p>Chemical Formulae: H<sub>2</sub>O (Water), C<sub>2</sub>H<sub>6</sub>O (Ethanol).</p>\n",
    "\n",
    "    <p>Dates: <time datetime=\"2019-25-25\">December 25<sup>th</sup> 2019</time> (Christmas Day), <time datetime=\"2019-11-02\">November 2<sup>nd</sup> 2019</time> (Día de los Muertos).</p>\n",
    "</body>"
   ]
  },
  {
   "cell_type": "code",
   "execution_count": null,
   "metadata": {},
   "outputs": [],
   "source": []
  }
 ],
 "metadata": {
  "colab": {
   "provenance": []
  },
  "kernelspec": {
   "display_name": "Python 3 (ipykernel)",
   "language": "python",
   "name": "python3"
  },
  "language_info": {
   "codemirror_mode": {
    "name": "ipython",
    "version": 3
   },
   "file_extension": ".py",
   "mimetype": "text/x-python",
   "name": "python",
   "nbconvert_exporter": "python",
   "pygments_lexer": "ipython3",
   "version": "3.9.13"
  },
  "vscode": {
   "interpreter": {
    "hash": "31f2aee4e71d21fbe5cf8b01ff0e069b9275f58929596ceb00d14d90e3e16cd6"
   }
  }
 },
 "nbformat": 4,
 "nbformat_minor": 4
}
