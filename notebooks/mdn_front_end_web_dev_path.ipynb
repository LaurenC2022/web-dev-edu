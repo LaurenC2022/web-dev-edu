{
  "cells": [
    {
      "cell_type": "markdown",
      "metadata": {
        "id": "JmsBdgQN4_tX"
      },
      "source": [
        "# MDN Web Docs - Front End Web Dev Path"
      ]
    },
    {
      "cell_type": "markdown",
      "metadata": {
        "id": "L8N_QZSO4-O3"
      },
      "source": [
        "## Semantics and structure with HTML"
      ]
    },
    {
      "cell_type": "markdown",
      "metadata": {
        "id": "wJ39u4Hy5Hj9"
      },
      "source": [
        "### Introduction to HTML \n"
      ]
    },
    {
      "cell_type": "markdown",
      "metadata": {
        "id": "ByV8fDDlP0TB"
      },
      "source": [
        "#### Getting Started with HTML \n",
        "  - [Practice Browser Output PRACTICE ASSIGNMENTS](https://laurenc2022.github.io/web-dev-edu/mdn-web-docs/intro-to-html/1-getting-started-with-html/title-example.html)"
      ]
    },
    {
      "cell_type": "markdown",
      "metadata": {
        "id": "i-uzn1QsPY4E"
      },
      "source": [
        "#### What's in the Head? Metadata in HTML\n",
        "  - [Practice Browser Output PRACTICE ASSIGNMENTS](https://laurenc2022.github.io/web-dev-edu/mdn-web-docs/intro-to-html/2-whats-in-th-head-metadata-in-html/meta-example.html)"
      ]
    },
    {
      "cell_type": "markdown",
      "metadata": {
        "id": "JHRqV--jAfDY"
      },
      "source": [
        "#### HTML Text Fundamentals \n",
        "  - [Practice Browser Output PRACTICE ASSIGNMENTS](https://laurenc2022.github.io/web-dev-edu/mdn-web-docs/intro-to-html/3-html-text-fundamentals/text-start.html)\n",
        "        "
      ]
    },
    {
      "cell_type": "markdown",
      "metadata": {
        "id": "Ryy8yME5Pk1a"
      },
      "source": [
        "#### Test your skills: HTML text basics PRACTICE ASSIGNMENTS\n",
        "\n",
        "  - [Practice 1](https://laurenc2022.github.io/web-dev-edu/mdn-web-docs/intro-to-html/3-html-text-fundamentals/test-your-skills/basic-text1-download.html): Practice with html paragraph and semantic headings \n",
        "  - [Practice 2](https://laurenc2022.github.io/web-dev-edu/mdn-web-docs/intro-to-html/3-html-text-fundamentals/test-your-skills/basic-text2-download.html): Practice with \n",
        "  - [Practice 3](https://laurenc2022.github.io/web-dev-edu/mdn-web-docs/intro-to-html/3-html-text-fundamentals/test-your-skills/basic-text3-download.html): Practice with strong importance and emphasis, **semantic elements** "
      ]
    },
    {
      "cell_type": "markdown",
      "metadata": {
        "id": "IDv1t_w4PI80"
      },
      "source": [
        "#### [Creating hyperlinks](https://developer.mozilla.org/en-US/docs/Learn/HTML/Introduction_to_HTML/Creating_hyperlinks)\n",
        "\n",
        "  - [Creating hyperlinks: PRACTICE ASSIGNMENT](https://laurenc2022.github.io/web-dev-edu/mdn-web-docs/intro-to-html/4-creating-hyperlinks/index.html)\n",
        "\n",
        "  - Note: A URL can point to HTML files, text files, images, text documents, video and audio files, or anything else that lives on the Web\n",
        "\n",
        "  - Anatomy of a link: \n",
        "    - <a> element with attrubutes: \n",
        "      - href\n",
        "      - title: contains non critical info about link, title information is less accessible\n",
        "\n",
        "- URL, or Uniform Resource Locator \n",
        "\n",
        "- Moving back up into parent directories. each \"..\" will move back a directory. Ex: \n",
        "  - ../../../complex/path/to/my/file.html (moves back 3 directory/ folder)\n",
        "  - ../pdfs/project-brief.pdf (moves back 1 directory/ folder)"
      ]
    },
    {
      "cell_type": "markdown",
      "metadata": {
        "id": "-Xkj-ihnYf0f"
      },
      "source": [
        "##### Document fragment, example: "
      ]
    },
    {
      "cell_type": "markdown",
      "metadata": {
        "id": "jOO8NqGpa6zA"
      },
      "source": [
        "- use id to identify aspect of page:"
      ]
    },
    {
      "cell_type": "code",
      "execution_count": null,
      "metadata": {
        "id": "-QtZVPHMZbeL"
      },
      "outputs": [],
      "source": [
        "# <h2 id=\"Mailing_address\">Mailing address</h2> "
      ]
    },
    {
      "cell_type": "markdown",
      "metadata": {
        "id": "CcFIvLnua-XG"
      },
      "source": [
        "- add #id_name to end of url"
      ]
    },
    {
      "cell_type": "code",
      "execution_count": null,
      "metadata": {
        "id": "f2F_QF3LYqE_"
      },
      "outputs": [],
      "source": [
        "# <p>\n",
        "#   Want to write us a letter? Use our\n",
        "#   <a href=\"contacts.html#Mailing_address\">mailing address</a>.\n",
        "# </p>"
      ]
    },
    {
      "cell_type": "markdown",
      "metadata": {
        "id": "G0vq-T5EbEu9"
      },
      "source": [
        "##### absolute vs. relative path\n",
        "- absolute URL: www.example.com/projects/index.html\n",
        "\n",
        "- relative URL: projects/index.html\n",
        "  - A relative URL will point to different places depending on the actual location of the file you refer from "
      ]
    },
    {
      "cell_type": "markdown",
      "metadata": {
        "id": "WU5L_qi1cLEJ"
      },
      "source": [
        "##### best practices: \n",
        "  - Screen reader users like jumping around from link to link \n",
        "  - Use clear wording, like keywords (SEO type words) to describe links\n",
        "    - Good example: Download Firefox\n",
        "    - bad example: Click here\n",
        "  - Keep your link text as short as possible"
      ]
    },
    {
      "cell_type": "markdown",
      "metadata": {
        "id": "-P08LgglQPbe"
      },
      "source": [
        "- [Advanced Text Formatting](https://developer.mozilla.org/en-US/docs/Learn/HTML/Introduction_to_HTML/Advanced_text_formatting)"
      ]
    },
    {
      "cell_type": "markdown",
      "metadata": {
        "id": "vN-5ZutuQi5V"
      },
      "source": [
        "- [Document and website structure](https://developer.mozilla.org/en-US/docs/Learn/HTML/Introduction_to_HTML/Document_and_website_structure)"
      ]
    },
    {
      "cell_type": "markdown",
      "metadata": {
        "id": "Qiqc6nsfQv8e"
      },
      "source": [
        "- [Debuggin HTML](https://developer.mozilla.org/en-US/docs/Learn/HTML/Introduction_to_HTML/Debugging_HTML)"
      ]
    },
    {
      "cell_type": "markdown",
      "metadata": {
        "id": "okHzzSj6Q5AN"
      },
      "source": [
        "- [Assessments](https://developer.mozilla.org/en-US/docs/Learn/HTML/Introduction_to_HTML#assessments)\n",
        "  - [Marking up a letter](https://developer.mozilla.org/en-US/docs/Learn/HTML/Introduction_to_HTML/Marking_up_a_letter)\n",
        "  - [Structuring a page of content](https://developer.mozilla.org/en-US/docs/Learn/HTML/Introduction_to_HTML/Structuring_a_page_of_content)"
      ]
    }
  ],
  "metadata": {
    "colab": {
      "provenance": []
    },
    "kernelspec": {
      "display_name": "Python 3.9.6 64-bit",
      "language": "python",
      "name": "python3"
    },
    "language_info": {
      "name": "python",
      "version": "3.9.6"
    },
    "vscode": {
      "interpreter": {
        "hash": "31f2aee4e71d21fbe5cf8b01ff0e069b9275f58929596ceb00d14d90e3e16cd6"
      }
    }
  },
  "nbformat": 4,
  "nbformat_minor": 0
}
