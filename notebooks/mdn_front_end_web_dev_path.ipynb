{
  "nbformat": 4,
  "nbformat_minor": 0,
  "metadata": {
    "colab": {
      "provenance": []
    },
    "kernelspec": {
      "name": "python3",
      "display_name": "Python 3"
    },
    "language_info": {
      "name": "python"
    }
  },
  "cells": [
    {
      "cell_type": "markdown",
      "source": [
        "# MDN Web Docs - Front End Web Dev Path"
      ],
      "metadata": {
        "id": "JmsBdgQN4_tX"
      }
    },
    {
      "cell_type": "markdown",
      "source": [
        "## Semantics and structure with HTML"
      ],
      "metadata": {
        "id": "L8N_QZSO4-O3"
      }
    },
    {
      "cell_type": "markdown",
      "source": [
        "### Introduction to HTML \n"
      ],
      "metadata": {
        "id": "wJ39u4Hy5Hj9"
      }
    },
    {
      "cell_type": "markdown",
      "source": [
        "#### Getting Started with HTML \n",
        "  - [Practice Browser Output PRACTICE ASSIGNMENTS](https://laurenc2022.github.io/web-dev-edu/mdn-web-docs/intro-to-html/1-getting-started-with-html/title-example.html)"
      ],
      "metadata": {
        "id": "ByV8fDDlP0TB"
      }
    },
    {
      "cell_type": "markdown",
      "source": [
        "#### What's in the Head? Metadata in HTML\n",
        "  - [Practice Browser Output PRACTICE ASSIGNMENTS](https://laurenc2022.github.io/web-dev-edu/mdn-web-docs/intro-to-html/2-whats-in-th-head-metadata-in-html/meta-example.html)"
      ],
      "metadata": {
        "id": "i-uzn1QsPY4E"
      }
    },
    {
      "cell_type": "markdown",
      "source": [
        "#### HTML Text Fundamentals \n",
        "  - [Practice Browser Output PRACTICE ASSIGNMENTS](https://laurenc2022.github.io/web-dev-edu/mdn-web-docs/intro-to-html/3-html-text-fundamentals/text-start.html)\n",
        "        "
      ],
      "metadata": {
        "id": "JHRqV--jAfDY"
      }
    },
    {
      "cell_type": "markdown",
      "source": [
        "#### Test your skills: HTML text basics PRACTICE ASSIGNMENTS\n",
        "\n",
        "  - [Practice 1](https://laurenc2022.github.io/web-dev-edu/mdn-web-docs/intro-to-html/3-html-text-fundamentals/test-your-skills/basic-text1-download.html): Practice with html paragraph and semantic headings \n",
        "  - [Practice 2](https://laurenc2022.github.io/web-dev-edu/mdn-web-docs/intro-to-html/3-html-text-fundamentals/test-your-skills/basic-text2-download.html): Practice with \n",
        "  - [Practice 3](https://laurenc2022.github.io/web-dev-edu/mdn-web-docs/intro-to-html/3-html-text-fundamentals/test-your-skills/basic-text3-download.html): Practice with strong importance and emphasis, **semantic elements** "
      ],
      "metadata": {
        "id": "Ryy8yME5Pk1a"
      }
    },
    {
      "cell_type": "markdown",
      "source": [
        "#### [Creating hyperlinks](https://developer.mozilla.org/en-US/docs/Learn/HTML/Introduction_to_HTML/Creating_hyperlinks)\n",
        "\n",
        "  - [Creating hyperlinks: PRACTICE ASSIGNMENT](https://laurenc2022.github.io/web-dev-edu/mdn-web-docs/intro-to-html/4-creating-hyperlinks/index.html)\n",
        "\n",
        "  - Note: A URL can point to HTML files, text files, images, text documents, video and audio files, or anything else that lives on the Web\n",
        "\n",
        "  - Anatomy of a link: \n",
        "    - <a> element with attrubutes: \n",
        "      - href\n",
        "      - title: contains non critical info about link, title information is less accessible\n",
        "\n",
        "- URL, or Uniform Resource Locator \n",
        "\n",
        "- Moving back up into parent directories. each \"..\" will move back a directory. Ex: \n",
        "  - ../../../complex/path/to/my/file.html (moves back 3 directory/ folder)\n",
        "  - ../pdfs/project-brief.pdf (moves back 1 directory/ folder)"
      ],
      "metadata": {
        "id": "IDv1t_w4PI80"
      }
    },
    {
      "cell_type": "markdown",
      "source": [
        "##### Document fragment, example: "
      ],
      "metadata": {
        "id": "-Xkj-ihnYf0f"
      }
    },
    {
      "cell_type": "markdown",
      "source": [
        "- use id to identify aspect of page:"
      ],
      "metadata": {
        "id": "jOO8NqGpa6zA"
      }
    },
    {
      "cell_type": "code",
      "source": [
        "<h2 id=\"Mailing_address\">Mailing address</h2> "
      ],
      "metadata": {
        "id": "-QtZVPHMZbeL"
      },
      "execution_count": null,
      "outputs": []
    },
    {
      "cell_type": "markdown",
      "source": [
        "- add #id_name to end of url"
      ],
      "metadata": {
        "id": "CcFIvLnua-XG"
      }
    },
    {
      "cell_type": "code",
      "source": [
        "<p>\n",
        "  Want to write us a letter? Use our\n",
        "  <a href=\"contacts.html#Mailing_address\">mailing address</a>.\n",
        "</p>"
      ],
      "metadata": {
        "id": "f2F_QF3LYqE_"
      },
      "execution_count": null,
      "outputs": []
    },
    {
      "cell_type": "markdown",
      "source": [
        "##### absolute vs. relative path\n",
        "- absolute URL: www.example.com/projects/index.html\n",
        "\n",
        "- relative URL: projects/index.html\n",
        "  - A relative URL will point to different places depending on the actual location of the file you refer from "
      ],
      "metadata": {
        "id": "G0vq-T5EbEu9"
      }
    },
    {
      "cell_type": "markdown",
      "source": [
        "##### best practices: \n",
        "  - Screen reader users like jumping around from link to link \n",
        "  - Use clear wording, like keywords (SEO type words) to describe links\n",
        "    - Good example: Download Firefox\n",
        "    - bad example: Click here\n",
        "  - Keep your link text as short as possible"
      ],
      "metadata": {
        "id": "WU5L_qi1cLEJ"
      }
    },
    {
      "cell_type": "markdown",
      "source": [
        "- [Advanced Text Formatting](https://developer.mozilla.org/en-US/docs/Learn/HTML/Introduction_to_HTML/Advanced_text_formatting)"
      ],
      "metadata": {
        "id": "-P08LgglQPbe"
      }
    },
    {
      "cell_type": "markdown",
      "source": [
        "- [Document and website structure](https://developer.mozilla.org/en-US/docs/Learn/HTML/Introduction_to_HTML/Document_and_website_structure)"
      ],
      "metadata": {
        "id": "vN-5ZutuQi5V"
      }
    },
    {
      "cell_type": "markdown",
      "source": [
        "- [Debuggin HTML](https://developer.mozilla.org/en-US/docs/Learn/HTML/Introduction_to_HTML/Debugging_HTML)"
      ],
      "metadata": {
        "id": "Qiqc6nsfQv8e"
      }
    },
    {
      "cell_type": "markdown",
      "source": [
        "- [Assessments](https://developer.mozilla.org/en-US/docs/Learn/HTML/Introduction_to_HTML#assessments)\n",
        "  - [Marking up a letter](https://developer.mozilla.org/en-US/docs/Learn/HTML/Introduction_to_HTML/Marking_up_a_letter)\n",
        "  - [Structuring a page of content](https://developer.mozilla.org/en-US/docs/Learn/HTML/Introduction_to_HTML/Structuring_a_page_of_content)"
      ],
      "metadata": {
        "id": "okHzzSj6Q5AN"
      }
    }
  ]
}