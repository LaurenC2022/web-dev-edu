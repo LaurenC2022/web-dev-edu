{
  "cells": [
    {
      "cell_type": "markdown",
      "metadata": {
        "id": "JmsBdgQN4_tX"
      },
      "source": [
        "# MDN Web Docs - Front End Web Dev Path"
      ]
    },
    {
      "cell_type": "markdown",
      "metadata": {
        "id": "L8N_QZSO4-O3"
      },
      "source": [
        "## Semantics and structure with HTML"
      ]
    },
    {
      "cell_type": "markdown",
      "metadata": {
        "id": "wJ39u4Hy5Hj9"
      },
      "source": [
        "### Introduction to HTML \n"
      ]
    },
    {
      "cell_type": "markdown",
      "metadata": {
        "id": "ByV8fDDlP0TB"
      },
      "source": [
        "#### Getting Started with HTML \n",
        "  - [Practice Browser Output PRACTICE ASSIGNMENTS](https://laurenc2022.github.io/web-dev-edu/mdn-web-docs/intro-to-html/1-getting-started-with-html/title-example.html)"
      ]
    },
    {
      "cell_type": "markdown",
      "metadata": {
        "id": "i-uzn1QsPY4E"
      },
      "source": [
        "#### What's in the Head? Metadata in HTML\n",
        "  - [Practice Browser Output PRACTICE ASSIGNMENTS](https://laurenc2022.github.io/web-dev-edu/mdn-web-docs/intro-to-html/2-whats-in-th-head-metadata-in-html/meta-example.html)"
      ]
    },
    {
      "cell_type": "markdown",
      "metadata": {
        "id": "JHRqV--jAfDY"
      },
      "source": [
        "#### HTML Text Fundamentals \n",
        "  - [Practice Browser Output PRACTICE ASSIGNMENTS](https://laurenc2022.github.io/web-dev-edu/mdn-web-docs/intro-to-html/3-html-text-fundamentals/text-start.html)\n",
        "        "
      ]
    },
    {
      "cell_type": "markdown",
      "metadata": {
        "id": "Ryy8yME5Pk1a"
      },
      "source": [
        "#### Test your skills: HTML text basics PRACTICE ASSIGNMENTS\n",
        "\n",
        "  - [Practice 1](https://laurenc2022.github.io/web-dev-edu/mdn-web-docs/intro-to-html/3-html-text-fundamentals/test-your-skills/basic-text1-download.html): Practice with html paragraph and semantic headings \n",
        "  - [Practice 2](https://laurenc2022.github.io/web-dev-edu/mdn-web-docs/intro-to-html/3-html-text-fundamentals/test-your-skills/basic-text2-download.html): Practice with \n",
        "  - [Practice 3](https://laurenc2022.github.io/web-dev-edu/mdn-web-docs/intro-to-html/3-html-text-fundamentals/test-your-skills/basic-text3-download.html): Practice with strong importance and emphasis, **semantic elements** "
      ]
    },
    {
      "cell_type": "markdown",
      "metadata": {
        "id": "IDv1t_w4PI80"
      },
      "source": [
        "#### [Creating hyperlinks](mdn-web-docs/intro-to-html/4-creating-hyperlinks/creating-hyper-links-assignment1/assignment1.html)\n",
        "\n",
        "  - [Creating hyperlinks: PRACTICE ASSIGNMENT 1](https://laurenc2022.github.io/web-dev-edu/mdn-web-docs/intro-to-html/4-creating-hyperlinks/index.html)\n",
        "\n",
        "  - Note: A URL can point to HTML files, text files, images, text documents, video and audio files, or anything else that lives on the Web\n",
        "\n",
        "  - Anatomy of a link: \n",
        "    - <a> element with attrubutes: \n",
        "      - href\n",
        "      - title: contains non critical info about link, title information is less accessible\n",
        "\n",
        "- URL, or Uniform Resource Locator \n",
        "\n",
        "- Moving back up into parent directories. each \"..\" will move back a directory. Ex: \n",
        "  - ../../../complex/path/to/my/file.html (moves back 3 directory/ folder)\n",
        "  - ../pdfs/project-brief.pdf (moves back 1 directory/ folder)"
      ]
    },
    {
      "cell_type": "markdown",
      "metadata": {
        "id": "-Xkj-ihnYf0f"
      },
      "source": [
        "##### Document fragment, example: "
      ]
    },
    {
      "cell_type": "markdown",
      "metadata": {
        "id": "jOO8NqGpa6zA"
      },
      "source": [
        "- use id to identify aspect of page:"
      ]
    },
    {
      "cell_type": "code",
      "execution_count": 4,
      "metadata": {
        "id": "-QtZVPHMZbeL"
      },
      "outputs": [
        {
          "data": {
            "text/html": [
              " <h2 id=\"Mailing_address\">Mailing address</h2> \n"
            ],
            "text/plain": [
              "<IPython.core.display.HTML object>"
            ]
          },
          "metadata": {},
          "output_type": "display_data"
        }
      ],
      "source": [
        "%%HTML\n",
        " <h2 id=\"Mailing_address\">Mailing address</h2> "
      ]
    },
    {
      "cell_type": "markdown",
      "metadata": {
        "id": "CcFIvLnua-XG"
      },
      "source": [
        "- add #id_name to end of url"
      ]
    },
    {
      "cell_type": "code",
      "execution_count": 3,
      "metadata": {
        "id": "f2F_QF3LYqE_"
      },
      "outputs": [
        {
          "data": {
            "text/html": [
              "<p>\n",
              "  Want to write us a letter? Use our\n",
              "  <a href=\"contacts.html#Mailing_address\">mailing address</a>.\n",
              "</p>\n"
            ],
            "text/plain": [
              "<IPython.core.display.HTML object>"
            ]
          },
          "metadata": {},
          "output_type": "display_data"
        }
      ],
      "source": [
        "%%HTML\n",
        "<p>\n",
        "  Want to write us a letter? Use our\n",
        "  <a href=\"contacts.html#Mailing_address\">mailing address</a>.\n",
        "</p>\n"
      ]
    },
    {
      "cell_type": "markdown",
      "metadata": {
        "id": "G0vq-T5EbEu9"
      },
      "source": [
        "##### absolute vs. relative path\n",
        "- absolute URL: www.example.com/projects/index.html\n",
        "\n",
        "- relative URL: projects/index.html\n",
        "  - A relative URL will point to different places depending on the actual location of the file you refer from "
      ]
    },
    {
      "cell_type": "markdown",
      "metadata": {
        "id": "WU5L_qi1cLEJ"
      },
      "source": [
        "##### best practices: \n",
        "  - Screen reader users like jumping around from link to link \n",
        "  - Use clear wording, like keywords (SEO type words) to describe links\n",
        "    - Good example: Download Firefox\n",
        "    - bad example: Click here\n",
        "  - Keep your link text as short as possible"
      ]
    },
    {
      "cell_type": "markdown",
      "metadata": {
        "id": "-P08LgglQPbe"
      },
      "source": [
        "- [Advanced Text Formatting](https://developer.mozilla.org/en-US/docs/Learn/HTML/Introduction_to_HTML/Advanced_text_formatting)"
      ]
    },
    {
      "cell_type": "markdown",
      "metadata": {
        "id": "vN-5ZutuQi5V"
      },
      "source": [
        "- [Document and website structure](https://developer.mozilla.org/en-US/docs/Learn/HTML/Introduction_to_HTML/Document_and_website_structure)"
      ]
    },
    {
      "cell_type": "markdown",
      "metadata": {
        "id": "Qiqc6nsfQv8e"
      },
      "source": [
        "- [Debuggin HTML](https://developer.mozilla.org/en-US/docs/Learn/HTML/Introduction_to_HTML/Debugging_HTML)"
      ]
    },
    {
      "cell_type": "markdown",
      "metadata": {
        "id": "okHzzSj6Q5AN"
      },
      "source": [
        "- [Assessments](https://developer.mozilla.org/en-US/docs/Learn/HTML/Introduction_to_HTML#assessments)\n",
        "  - [Marking up a letter](https://developer.mozilla.org/en-US/docs/Learn/HTML/Introduction_to_HTML/Marking_up_a_letter)\n",
        "  - [Structuring a page of content](https://developer.mozilla.org/en-US/docs/Learn/HTML/Introduction_to_HTML/Structuring_a_page_of_content)"
      ]
    },
    {
      "cell_type": "markdown",
      "metadata": {},
      "source": [
        "##### non-html resources"
      ]
    },
    {
      "cell_type": "markdown",
      "metadata": {},
      "source": [
        "- add description of how link will be handled if not intuative (download, steamed, note flash/extention is required)\n",
        "- Use the download attribute when linking to a download. Download attribute to provide a default save filename"
      ]
    },
    {
      "cell_type": "markdown",
      "metadata": {},
      "source": [
        "[Active learning: creating a navigation menu ASSIGNMENT 2\n",
        "](https://laurenc2022.github.io/web-dev-edu/mdn-web-docs/intro-to-html/4-creating-hyperlinks/active-learning-creating-nav-menu-assignment/assignment2.html)"
      ]
    },
    {
      "cell_type": "markdown",
      "metadata": {},
      "source": [
        "- mailto: indicates email address \n",
        "- use a black mailto: with no email to prompt user to share content with their contacts (see example 1)\n",
        "- Details can be added using a query (see example 2)"
      ]
    },
    {
      "cell_type": "markdown",
      "metadata": {},
      "source": [
        "- Example 1:"
      ]
    },
    {
      "cell_type": "code",
      "execution_count": 6,
      "metadata": {
        "vscode": {
          "languageId": "html"
        }
      },
      "outputs": [
        {
          "data": {
            "text/html": [
              "\n",
              "<a href=\"mailto:nowhere@mozilla.org\">Send email to nowhere</a>\n"
            ],
            "text/plain": [
              "<IPython.core.display.HTML object>"
            ]
          },
          "metadata": {},
          "output_type": "display_data"
        }
      ],
      "source": [
        "# Example 1\n",
        "%%HTML\n",
        "\n",
        "<a href=\"mailto:nowhere@mozilla.org\">Send email to nowhere</a>\n"
      ]
    },
    {
      "cell_type": "markdown",
      "metadata": {},
      "source": [
        "- Example 2: "
      ]
    },
    {
      "cell_type": "code",
      "execution_count": 31,
      "metadata": {
        "vscode": {
          "languageId": "html"
        }
      },
      "outputs": [
        {
          "data": {
            "text/html": [
              "<a href=\"mailto:nowhere@mozilla.org?cc=name2@rapidtables.com&bcc=name3@rapidtables.com&subject=The%20subject%20of%20the%20email&body=The%20body%20of%20the%20email\">\n",
              "  Send mail with cc, bcc, subject and body\n",
              "</a>\n"
            ],
            "text/plain": [
              "<IPython.core.display.HTML object>"
            ]
          },
          "metadata": {},
          "output_type": "display_data"
        }
      ],
      "source": [
        "\n",
        "%%HTML\n",
        "<a href=\"mailto:nowhere@mozilla.org?cc=name2@rapidtables.com&bcc=name3@rapidtables.com&subject=The%20subject%20of%20the%20email&body=The%20body%20of%20the%20email\">\n",
        "  Send mail with cc, bcc, subject and body\n",
        "</a>\n"
      ]
    },
    {
      "cell_type": "markdown",
      "metadata": {},
      "source": [
        "Test your skills: Links"
      ]
    },
    {
      "cell_type": "markdown",
      "metadata": {},
      "source": [
        "- Task 1"
      ]
    },
    {
      "cell_type": "code",
      "execution_count": null,
      "metadata": {
        "vscode": {
          "languageId": "html"
        }
      },
      "outputs": [],
      "source": [
        "\n",
        "%%HTML\n",
        "<head>\n",
        "    <meta charset=\"utf-8\" />\n",
        "    <title>Links: Task 1</title>\n",
        "    <style>\n",
        "        body {\n",
        "            /* background-color: #fff; */\n",
        "            color: #333;\n",
        "            font: 1em / 1.4 Helvetica Neue, Helvetica, Arial, sans-serif;\n",
        "            padding: 1em;\n",
        "            margin: 0;\n",
        "        }\n",
        "\n",
        "        h1 {\n",
        "            font-size: 2rem;\n",
        "            margin: 0;\n",
        "            color: purple;\n",
        "        }\n",
        "\n",
        "        p {\n",
        "            color: gray;\n",
        "            margin: 0.5em 0;\n",
        "        }\n",
        "\n",
        "        * {\n",
        "            box-sizing: border-box;\n",
        "        }\n",
        "    </style>\n",
        "</head>\n",
        "\n",
        "<body>\n",
        "\n",
        "    <h1>Information on Whales</h1>\n",
        "\n",
        "    <p>For more information on our conservation activities and which Whales we study,\n",
        "        see our <a title=\"Blue Whales and Sperm Whales information\" href=\"../mdn-web-docs/intro-to-html/4-creating-hyperlinks/test-your-skills/whales.html\" target=\"_blank\">Whales page</a>.</p>\n",
        "\n",
        "    <p>If you want to ask our team more questions, feel free to <a href=\"mailto:whales@example.com?subject=Question%20about%20Whales\">email us</a>.</p>\n",
        "\n",
        "</body>"
      ]
    },
    {
      "cell_type": "markdown",
      "metadata": {},
      "source": [
        "- Task 2"
      ]
    },
    {
      "cell_type": "code",
      "execution_count": 33,
      "metadata": {
        "vscode": {
          "languageId": "html"
        }
      },
      "outputs": [
        {
          "data": {
            "text/html": [
              "<head>\n",
              "    <meta charset=\"utf-8\" />\n",
              "    <title>Links: Task 2</title>\n",
              "    <style>\n",
              "        body {\n",
              "            /* background-color: #fff; */\n",
              "            color: #333;\n",
              "            font: 1em / 1.4 Helvetica Neue, Helvetica, Arial, sans-serif;\n",
              "            padding: 1em;\n",
              "            margin: 0;\n",
              "        }\n",
              "\n",
              "        h1 {\n",
              "            font-size: 2rem;\n",
              "            margin: 0;\n",
              "            color: purple;\n",
              "        }\n",
              "\n",
              "        li {\n",
              "            color: gray;\n",
              "            margin: 0.5em 0;\n",
              "        }\n",
              "\n",
              "        div {\n",
              "            height: 600px;\n",
              "        }\n",
              "    </style>\n",
              "</head>\n",
              "\n",
              "<body>\n",
              "\n",
              "    <h1>List path tests</h1>\n",
              "\n",
              "    <ul>\n",
              "        <li><a target=\"_blank\">Link me to the blue whale image</a></li>\n",
              "        <li><a target=\"_blank\">Link me to the narwhal image</a></li>\n",
              "        <li><a href=\"https://www.google.co.uk?mdn-web-docs/intro-to-html/4-creating-hyperlinks/test-your-skills/imghp/sea-g5992b3032_1920.jpg\" target=\"_blank\">Link me to Google image search</a></li>\n",
              "        <li><a href=\"mdn_front_end_web_dev_path.ipynb#bottom\">Link me to the paragraph at the bottom of the page</a></li>\n",
              "    </ul>\n",
              "\n",
              "    <div></div>\n",
              "\n",
              "    <p id=\"bottom\">The bottom of the page!</p>\n",
              "\n",
              "</body>\n"
            ],
            "text/plain": [
              "<IPython.core.display.HTML object>"
            ]
          },
          "metadata": {},
          "output_type": "display_data"
        }
      ],
      "source": [
        "%%HTML\n",
        "<head>\n",
        "    <meta charset=\"utf-8\" />\n",
        "    <title>Links: Task 2</title>\n",
        "    <style>\n",
        "        body {\n",
        "            /* background-color: #fff; */\n",
        "            color: #333;\n",
        "            font: 1em / 1.4 Helvetica Neue, Helvetica, Arial, sans-serif;\n",
        "            padding: 1em;\n",
        "            margin: 0;\n",
        "        }\n",
        "\n",
        "        h1 {\n",
        "            font-size: 2rem;\n",
        "            margin: 0;\n",
        "            color: purple;\n",
        "        }\n",
        "\n",
        "        li {\n",
        "            color: gray;\n",
        "            margin: 0.5em 0;\n",
        "        }\n",
        "\n",
        "        div {\n",
        "            height: 600px;\n",
        "        }\n",
        "    </style>\n",
        "</head>\n",
        "\n",
        "<body>\n",
        "\n",
        "    <h1>List path tests</h1>\n",
        "\n",
        "    <ul>\n",
        "        <li><a target=\"_blank\">Link me to the blue whale image</a></li>\n",
        "        <li><a target=\"_blank\">Link me to the narwhal image</a></li>\n",
        "        <li><a href=\"https://www.google.co.uk?https://laurenc2022.github.io/web-dev-edu/mdn-web-docs/intro-to-html/4-creating-hyperlinks/test-your-skills/imghp/sea-g5992b3032_1920.jpg\" target=\"_blank\">Link me to Google image search</a></li>\n",
        "        <li><a href=\"mdn_front_end_web_dev_path.ipynb#bottom\">Link me to the paragraph at the bottom of the page</a></li>\n",
        "    </ul>\n",
        "\n",
        "    <div></div>\n",
        "\n",
        "    <p id=\"bottom\">The bottom of the page!</p>\n",
        "\n",
        "</body>"
      ]
    }
  ],
  "metadata": {
    "colab": {
      "provenance": []
    },
    "kernelspec": {
      "display_name": "Python 3.9.6 64-bit",
      "language": "python",
      "name": "python3"
    },
    "language_info": {
      "codemirror_mode": {
        "name": "ipython",
        "version": 3
      },
      "file_extension": ".py",
      "mimetype": "text/x-python",
      "name": "python",
      "nbconvert_exporter": "python",
      "pygments_lexer": "ipython3",
      "version": "3.9.6"
    },
    "vscode": {
      "interpreter": {
        "hash": "31f2aee4e71d21fbe5cf8b01ff0e069b9275f58929596ceb00d14d90e3e16cd6"
      }
    }
  },
  "nbformat": 4,
  "nbformat_minor": 0
}
