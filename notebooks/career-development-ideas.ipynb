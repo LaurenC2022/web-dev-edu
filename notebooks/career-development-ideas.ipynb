{
 "cells": [
  {
   "cell_type": "markdown",
   "id": "62ac161c-d3a9-4765-b59d-c73c88734f46",
   "metadata": {},
   "source": [
    "## Continueing Education/ Career Development ideas: "
   ]
  },
  {
   "cell_type": "markdown",
   "id": "e0a62db0-f8a0-4d70-ab1d-93c0d3ddfebf",
   "metadata": {},
   "source": [
    "- Gain entry level knowledge\n",
    "     - undergrad. courses: algorithms course in Java \n",
    "    - FCC, Book, MDN, Udemy course,  \n",
    "    - Marketable Skills: \n",
    "\n",
    "- Gain work experience in front end software development \n",
    "    - Continue gaining undergrad. courses knowledge and credentials to apply for masters\n",
    "    - work as a freelancer, contractor or full time employee \n",
    "\n",
    "- Masters in Computer Science \n",
    "\n",
    "    Do I want to go in the technology direction or front end/ design and UI/UX direction? \n",
    "    ...\n",
    "    Maybe: \n",
    "    - Lead a team of developers\n",
    "    ... \n",
    "    - Gain credentials for CTO \n",
    "\n",
    "    Or maybe not? \n",
    "    \n",
    "   Entry level musts as seen on job search: \n",
    "   \n",
    "    - [Algorithms, datascructures, discrete math]\n",
    "    - [security of websites]\n",
    "    - [analytics emplimentation]\n",
    "    - [3D scaleable web projects]\n",
    "    - [SEO]\n",
    "    - [Work with database]\n",
    "    - [Networking]\n",
    "    - [Working with Front end frameworks]\n",
    "    - [Code Standards and best practices - practice using]"
   ]
  },
  {
   "cell_type": "markdown",
   "id": "db7f2f58-464a-45ee-b655-8f14df00fb2c",
   "metadata": {
    "tags": []
   },
   "source": [
    "## Future Career Interests: \n"
   ]
  },
  {
   "attachments": {},
   "cell_type": "markdown",
   "id": "47fc5739-28c8-4e4d-89ea-7cf4c2724343",
   "metadata": {},
   "source": [
    "- [Applying Mathmatics to Web Design](https://www.smashingmagazine.com/2010/02/applying-mathematics-to-web-design/): I would like to gain a masters of computer science, and apply this knowledge to front end development \n",
    "\n",
    "- [Building Website Templates]\n",
    "    - [Building Wordpress Themes]\n",
    "    - [Building Jekyll Themes]\n",
    "    - [Build DotNet front end]\n",
    "    - [Build abstract designs to say skill in developement and attention and respect for design \n",
    "      (I will not design it, I will build it which is easier than designing it) Example of such design I want to build: https://p5aholic.me/projects/]\n",
    "    - [software architecture]\n",
    "        - design tech stack for scalability, minimize cost, maximum security for users and for the project. Ease of use for developers in mind \n",
    "    \n",
    "    - [Degree(s) in computer science]\n",
    "    - [learn something in AI, python and web scrapping?]\n",
    "    - *[Read a book on networking]* I will probabliy just read books on things instead of getting degrees, unless the degree or free or fully funded by job, or is a tax write off for me as a business owner \n",
    "\n",
    "- [Web Design]: I would like to learn a little on web design, UI/UX included \n",
    "    - [Design Spreads with all Devices]\n",
    "\n",
    "- [Javascript Games for browser]\n",
    "\n",
    "- Web Scrapping, API build and use, updates sent to my phone for language and technology updates: When they are updated and a summary of what the updates are. See how DevDoc's web scrapers work to learn how it's done "
   ]
  },
  {
   "attachments": {},
   "cell_type": "markdown",
   "id": "515f2675-3f8c-4ddb-8975-fd0e0dd83a3b",
   "metadata": {},
   "source": [
    "Get through 1 course on web development. Then do another, and then another. Become skillfull at one thing, then grow your craft: \n",
    "\n",
    "First: \n",
    "- Free Code Camp\n",
    "-  Web Coding & Development (focusing on Front end)\n",
    "- learn how to incorporate stripe / stripe developer \n",
    "\n",
    "Then \n",
    "\n",
    "- MDN \n",
    "- CodeCademy \n",
    "\n",
    "Then \n",
    "\n",
    "- book on building wordpress themes \n",
    "- book on building themes for static site generators \n",
    "- learn Woo commerce? and shopify?  \n",
    "\n",
    "Each of the above curriculum teaches a framework. Maybe pick a framework I would like experties in, or a database or Java and Alogrithsm and do it next \n",
    "\n",
    "- Java\n",
    "(not both a same time)\n",
    "-  algorithms/ data structures course (maybe do stanford and Harvard's courses?)\n",
    "\n",
    "Then... Who knows \n",
    "\n",
    "- ? \n",
    "- Book on networking or security? I'm not sure what I want to do next "
   ]
  },
  {
   "attachments": {},
   "cell_type": "markdown",
   "id": "7d95d15f",
   "metadata": {},
   "source": [
    "Path to employment: \n",
    "- Complete FCC, and  \n",
    "- Complete W.C. for Dummies \n",
    "\n",
    "___\n",
    "\n",
    "- Build portoflio projects, and  \n",
    "- Decide on 1 **continueing education** course to complete: MDN, CodeCademy, Java, or Alogirthms, Wordpress/ Jekyll theme building (new skill), security, networking, python, web scrapping,... \n",
    "\n",
    "___\n",
    "\n",
    "- Work, and \n",
    "- Be intitional about having **continueing education time**. Get qualifications to move my career into what I hope and dream it to be. Degree in computer science, work in front end development "
   ]
  },
  {
   "cell_type": "code",
   "execution_count": null,
   "id": "ec986ae0",
   "metadata": {},
   "outputs": [],
   "source": []
  }
 ],
 "metadata": {
  "kernelspec": {
   "display_name": "Python 3",
   "language": "python",
   "name": "python3"
  },
  "language_info": {
   "codemirror_mode": {
    "name": "ipython",
    "version": 3
   },
   "file_extension": ".py",
   "mimetype": "text/x-python",
   "name": "python",
   "nbconvert_exporter": "python",
   "pygments_lexer": "ipython3",
   "version": "3.11.0 (v3.11.0:deaf509e8f, Oct 24 2022, 14:43:23) [Clang 13.0.0 (clang-1300.0.29.30)]"
  },
  "vscode": {
   "interpreter": {
    "hash": "aee8b7b246df8f9039afb4144a1f6fd8d2ca17a180786b69acc140d282b71a49"
   }
  }
 },
 "nbformat": 4,
 "nbformat_minor": 5
}
