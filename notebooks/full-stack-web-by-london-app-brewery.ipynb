{
 "cells": [
  {
   "cell_type": "markdown",
   "metadata": {
    "id": "7vXSeBEQ-RoO"
   },
   "source": [
    "# Section 4: "
   ]
  },
  {
   "cell_type": "markdown",
   "metadata": {},
   "source": [
    "## Lesson 38: Classes vs. Id's"
   ]
  },
  {
   "cell_type": "markdown",
   "metadata": {},
   "source": [
    "**classes**: can be used more than once <br>\n",
    "    - example: .this-is-a-class {\n",
    "                    }\n",
    "**id's**: can only be used once\n",
    "    - #this-is-a-css-id-selector {\n",
    "        }\n",
    "    - use very sparingly \n",
    "    \n",
    "**Sudo Class**: \n",
    "    - affects states of elements \n",
    "    - example: \n",
    "            - :hover {} - changes element is moused over "
   ]
  },
  {
   "cell_type": "markdown",
   "metadata": {},
   "source": []
  }
 ],
 "metadata": {
  "colab": {
   "authorship_tag": "ABX9TyN5l8zqieSYF9EOoiU5W29M",
   "provenance": [],
   "toc_visible": true
  },
  "kernelspec": {
   "display_name": "Python 3 (ipykernel)",
   "language": "python",
   "name": "python3"
  },
  "language_info": {
   "codemirror_mode": {
    "name": "ipython",
    "version": 3
   },
   "file_extension": ".py",
   "mimetype": "text/x-python",
   "name": "python",
   "nbconvert_exporter": "python",
   "pygments_lexer": "ipython3",
   "version": "3.9.13"
  },
  "vscode": {
   "interpreter": {
    "hash": "31f2aee4e71d21fbe5cf8b01ff0e069b9275f58929596ceb00d14d90e3e16cd6"
   }
  }
 },
 "nbformat": 4,
 "nbformat_minor": 4
}
