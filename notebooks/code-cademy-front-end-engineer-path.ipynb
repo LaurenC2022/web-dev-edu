{
 "cells": [
  {
   "cell_type": "markdown",
   "metadata": {
    "id": "tCmrrFiy7hwb"
   },
   "source": [
    "# CodeCademy's Front End Engineer Path"
   ]
  },
  {
   "cell_type": "markdown",
   "metadata": {
    "id": "STnCnXRy8j4i"
   },
   "source": []
  }
 ],
 "metadata": {
  "colab": {
   "authorship_tag": "ABX9TyPzGliLXSUCVvui5KlKh6Gp",
   "provenance": []
  },
  "kernelspec": {
   "display_name": "Python 3 (ipykernel)",
   "language": "python",
   "name": "python3"
  },
  "language_info": {
   "codemirror_mode": {
    "name": "ipython",
    "version": 3
   },
   "file_extension": ".py",
   "mimetype": "text/x-python",
   "name": "python",
   "nbconvert_exporter": "python",
   "pygments_lexer": "ipython3",
   "version": "3.9.6 (default, Oct 18 2022, 12:41:40) \n[Clang 14.0.0 (clang-1400.0.29.202)]"
  },
  "vscode": {
   "interpreter": {
    "hash": "31f2aee4e71d21fbe5cf8b01ff0e069b9275f58929596ceb00d14d90e3e16cd6"
   }
  }
 },
 "nbformat": 4,
 "nbformat_minor": 4
}
