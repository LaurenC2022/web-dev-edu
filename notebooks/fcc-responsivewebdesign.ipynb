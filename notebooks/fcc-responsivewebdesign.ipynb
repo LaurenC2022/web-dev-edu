{
 "cells": [
  {
   "cell_type": "markdown",
   "metadata": {
    "id": "8eAnab24Tfq8"
   },
   "source": [
    "# Section 1"
   ]
  },
  {
   "cell_type": "markdown",
   "metadata": {
    "id": "ehxjGufATuzK"
   },
   "source": [
    "## 1. [Cat Photo App Assignment](https://laurenc2022.github.io/web-dev-edu/free-code-camp-assignments/responsive-web-design-assignments/section1/1-cat-photo-app/cat-photo-app-index.html)"
   ]
  },
  {
   "cell_type": "markdown",
   "metadata": {
    "id": "_7MC4dol_-bQ"
   },
   "source": []
  },
  {
   "cell_type": "markdown",
   "metadata": {
    "id": "RREE14gY_DMn"
   },
   "source": [
    "## 2. [Cafe Menu Assignment](https://laurenc2022.github.io/web-dev-edu/free-code-camp-assignments/responsive-web-design-assignments/section1/2-cafe-menu/cafe-menu-index.html)"
   ]
  },
  {
   "cell_type": "markdown",
   "metadata": {
    "id": "V3gowCWu__eu"
   },
   "source": []
  },
  {
   "cell_type": "markdown",
   "metadata": {
    "id": "_voXu1BV_FFs"
   },
   "source": [
    "## 3. [Colored Markers Assignment](https://laurenc2022.github.io/web-dev-edu/free-code-camp-assignments/responsive-web-design-assignments/section1/3-colored-markers/colored-markers-index.html)"
   ]
  },
  {
   "cell_type": "markdown",
   "metadata": {
    "id": "gaZBrhgvAALM"
   },
   "source": []
  },
  {
   "cell_type": "markdown",
   "metadata": {
    "id": "aOL_MQUG_G1H"
   },
   "source": [
    "## 4. [Registration Form Assignment](https://laurenc2022.github.io/web-dev-edu/free-code-camp-assignments/responsive-web-design-assignments/section1/4-Registration-form/registration-form-index.html)"
   ]
  },
  {
   "cell_type": "markdown",
   "metadata": {
    "id": "258w4X-BAAtI"
   },
   "source": []
  },
  {
   "cell_type": "markdown",
   "metadata": {
    "id": "bDOC-J-l_IeF"
   },
   "source": [
    "##5. [Certification Project 1: Survey Form](https://laurenc2022.github.io/web-dev-edu/free-code-camp-assignments/responsive-web-design-assignments/section1/5-cert-proj-registration-form/survey-form-index.html)"
   ]
  },
  {
   "cell_type": "markdown",
   "metadata": {
    "id": "1JdTPXh8ABP_"
   },
   "source": []
  },
  {
   "cell_type": "markdown",
   "metadata": {
    "id": "8fNOWGuKTaH-"
   },
   "source": [
    "# Section 2"
   ]
  },
  {
   "cell_type": "markdown",
   "metadata": {
    "id": "5rZ4pP1QS6q5"
   },
   "source": [
    "## 1. [Rothko Painting Assignment: ](https://laurenc2022.github.io/web-dev-edu/free-code-camp-assignments/responsive-web-design-assignments/section2/6-rhothko-painting/rothko-painting-index.html)"
   ]
  },
  {
   "cell_type": "markdown",
   "metadata": {
    "id": "owUw7QCMAC2T"
   },
   "source": []
  },
  {
   "cell_type": "markdown",
   "metadata": {
    "id": "oZQXfpRZU3a2"
   },
   "source": [
    "## 2. [Photo Gallery Assignment: FlexBoxes](https://laurenc2022.github.io/web-dev-edu/free-code-camp-assignments/responsive-web-design-assignments/section2/7-photo-gallery/photo-gallery.html)\n",
    "\n"
   ]
  },
  {
   "cell_type": "markdown",
   "metadata": {
    "id": "nu0hZ4Yf_6oR"
   },
   "source": [
    "- **Flexbox:** has a main and cross axis. The main axis is defined by the flex-direction property, which has four possible values:\n",
    "  - **row**: (default): horizontal axis with flex items from left to right\n",
    "  - **row-reverse**: horizontal axis with flex items from right to left\n",
    "  - **column**: vertical axis with flex items from top to bottom\n",
    "  - **column-reverse**: vertical axis with flex items from bottom to top\n",
    "- Note: The axes and directions will be different depending on the text direction. The values shown are for a left-to-right text direction.\n",
    "- The **flex-wrap property** determines how your flex items behave when the flex container is too small. nowrap (default) will prevent your items from wrapping and shrink them if needed\n",
    "- The **justify-content** property determines how the items inside a flex container are positioned along the main axis, affecting their position and the space around them.\n",
    "-  The align-items property positions the flex content along the cross axis. In this case, with your flex-direction set to row, your cross axis would be vertical\n",
    "\n",
    "- Step 16: Give your .gallery selector a padding property set to 20px 10px to create some space around the container.\n",
    "    - Then, give it a max-width of 1400px and add a margin of 0 auto to center it\n",
    "- Rather than setting each aspect ratio individually, you can use the object-fit property to determine how images should behave.\n",
    "  - Give your .gallery img selector the object-fit property and set it to cover. This will tell the image to fill the img container while maintaining aspect ratio, resulting in cropping to fit Try the different values to see how they affect the layout.\n",
    "    - The gap CSS shorthand property sets the gaps, also knowns as gutters, between rows and columns. The gap property and its row-gap and column-gap sub-properties provide this functionality for flex, grid, and multi-column layout. You apply the property to the container element\n",
    "- Step 20: The ::after pseudo-element creates an element that is the last child of the selected element. You can use it to add an empty element after the last image. If you give it the same width as the images it will push the last image to the left when the gallery is in a two-column layout. Right now, it is in the center because you set justify-content: center on the flex container."
   ]
  },
  {
   "cell_type": "code",
   "execution_count": null,
   "metadata": {
    "id": "_94ejO9rSOsG"
   },
   "outputs": [],
   "source": [
    "%%HTML\n",
    ".container::after {\n",
    "        content: \"\";\n",
    "         width: 860px;\n",
    "    }"
   ]
  },
  {
   "cell_type": "markdown",
   "metadata": {
    "id": "RQ13Fj6NVnyZ"
   },
   "source": [
    "## 3. [Nutrition Label](https://laurenc2022.github.io/web-dev-edu/free-code-camp-assignments/responsive-web-design-assignments/section2/8-nutrition-label/nutrition-label.html)"
   ]
  },
  {
   "cell_type": "markdown",
   "metadata": {
    "id": "arJQOYKTAD5g"
   },
   "source": [
    "Terms: \n",
    "- pseudo-selector: "
   ]
  },
  {
   "cell_type": "markdown",
   "metadata": {},
   "source": [
    "Examples: "
   ]
  },
  {
   "cell_type": "code",
   "execution_count": 3,
   "metadata": {},
   "outputs": [
    {
     "data": {
      "text/html": [
       "<style>\n",
       "<!-- Excludes a class with title: no-divider -->\n",
       ".daily-value p:not(.no-divider) {\n",
       "  border-bottom: 1px solid #888989;\n",
       "} \n",
       "<!-- Excludes an ID with title: no-divider -->\n",
       ".daily-value p:not(#no-divider) {\n",
       "  border-bottom: 1px solid #888989;\n",
       "}\n",
       "<style>\n"
      ],
      "text/plain": [
       "<IPython.core.display.HTML object>"
      ]
     },
     "metadata": {},
     "output_type": "display_data"
    }
   ],
   "source": [
    "%%HTML \n",
    "<style>\n",
    "<!-- Excludes a class with title: no-divider -->\n",
    ".daily-value p:not(.no-divider) {\n",
    "  border-bottom: 1px solid #888989;\n",
    "} \n",
    "<!-- Excludes an ID with title: no-divider -->\n",
    ".daily-value p:not(#no-divider) {\n",
    "  border-bottom: 1px solid #888989;\n",
    "}\n",
    "<style>"
   ]
  },
  {
   "cell_type": "markdown",
   "metadata": {
    "id": "YN0cRgeoVuiu"
   },
   "source": [
    "## 4. Building a Quiz "
   ]
  },
  {
   "cell_type": "markdown",
   "metadata": {
    "id": "BLPoKaT4AEX_"
   },
   "source": [
    "There is a common pattern to visually hide text for only screen readers to read.\n",
    "\n",
    "This pattern is to set the following CSS properties:\n",
    "\n",
    ".sr-only { \n",
    "    position: absolute;\n",
    "    width: 1px;\n",
    "    height: 1px;\n",
    "    padding: 0;\n",
    "    margin: -1px;\n",
    "    overflow: hidden;\n",
    "    clip: rect(0, 0, 0, 0);\n",
    "    white-space: nowrap;\n",
    "    border: 0;\n",
    "    }"
   ]
  },
  {
   "cell_type": "markdown",
   "metadata": {
    "id": "85769yfbV0iU"
   },
   "source": [
    "## 5. Certification Project 2: Tribute Page"
   ]
  },
  {
   "cell_type": "markdown",
   "metadata": {
    "id": "6p_iSWSxAFiu"
   },
   "source": []
  }
 ],
 "metadata": {
  "colab": {
   "authorship_tag": "ABX9TyOWKfEN4m8Bt3iK1GdiRUnU",
   "provenance": [],
   "toc_visible": true
  },
  "kernelspec": {
   "display_name": "Python 3 (ipykernel)",
   "language": "python",
   "name": "python3"
  },
  "language_info": {
   "codemirror_mode": {
    "name": "ipython",
    "version": 3
   },
   "file_extension": ".py",
   "mimetype": "text/x-python",
   "name": "python",
   "nbconvert_exporter": "python",
   "pygments_lexer": "ipython3",
   "version": "3.9.6 (default, Oct 18 2022, 12:41:40) \n[Clang 14.0.0 (clang-1400.0.29.202)]"
  },
  "vscode": {
   "interpreter": {
    "hash": "31f2aee4e71d21fbe5cf8b01ff0e069b9275f58929596ceb00d14d90e3e16cd6"
   }
  }
 },
 "nbformat": 4,
 "nbformat_minor": 4
}
