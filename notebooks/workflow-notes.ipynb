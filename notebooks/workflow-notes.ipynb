{
 "cells": [
  {
   "cell_type": "markdown",
   "metadata": {},
   "source": [
    "# Possible work flow "
   ]
  },
  {
   "cell_type": "markdown",
   "metadata": {},
   "source": [
    "1. Page flow diagrams to show which pages are linked. Note if using CMS/ static site generator and how files will be managed \n",
    "2. page design (may come from a designer with the fonts and digital assets) \n",
    "3. build development plan with layout strategy for the front end based on mockup "
   ]
  },
  {
   "cell_type": "markdown",
   "metadata": {},
   "source": [
    "## Building and Debugging Tools"
   ]
  },
  {
   "cell_type": "markdown",
   "metadata": {},
   "source": [
    "- Have open while building \n",
    "    - Multiple browsers \n",
    "    - Developer tools for those browsers "
   ]
  },
  {
   "attachments": {},
   "cell_type": "markdown",
   "metadata": {},
   "source": [
    "## Continueing Education/ Career Development ideas: "
   ]
  },
  {
   "attachments": {},
   "cell_type": "markdown",
   "metadata": {},
   "source": [
    "- Gain entry level knowledge\n",
    "     - undergrad. courses: algorithms course in Java \n",
    "    - FCC, Book, MDN, Udemy course,  \n",
    "    - Marketable Skills: \n",
    "\n",
    "- Gain work experience in front end software development \n",
    "    - Continue gaining undergrad. courses knowledge and credentials to apply for masters\n",
    "    - work as a freelancer, contractor or full time employee \n",
    "\n",
    "- Masters in Computer Science \n",
    "\n",
    "    Do I want to go in the technology direction or front end/ design and UI/UX direction? \n",
    "    ...\n",
    "    Maybe: \n",
    "    - Lead a team of developers\n",
    "    ... \n",
    "    - Gain credentials for CTO \n",
    "\n",
    "    Or maybe not? "
   ]
  },
  {
   "attachments": {},
   "cell_type": "markdown",
   "metadata": {},
   "source": [
    "## Future Career Interests: \n"
   ]
  },
  {
   "attachments": {},
   "cell_type": "markdown",
   "metadata": {},
   "source": [
    "- [Applying Mathmatics to Web Design](https://www.smashingmagazine.com/2010/02/applying-mathematics-to-web-design/): I would like to gain a masters of computer science, and apply this knowledge to front end development \n",
    "\n",
    "- [Building Website Templates]\n",
    "    - [Building Wordpress Themes]\n",
    "    - [Building Jekyll Themes]\n",
    "\n",
    "- [Web Design]: I would like to learn a little on web design, UI/UX included \n",
    "    - [Design Spreads with all Devices]\n",
    "\n",
    "- [Javascript Games for browser]\n",
    "\n",
    "- Web Scrapping, API build and use, updates sent to my phone for language and technology updates: When they are updated and a summary of what the updates are. See how DevDoc's web scrapers work to learn how it's done "
   ]
  },
  {
   "attachments": {},
   "cell_type": "markdown",
   "metadata": {},
   "source": []
  }
 ],
 "metadata": {
  "kernelspec": {
   "display_name": "Python 3 (ipykernel)",
   "language": "python",
   "name": "python3"
  },
  "language_info": {
   "codemirror_mode": {
    "name": "ipython",
    "version": 3
   },
   "file_extension": ".py",
   "mimetype": "text/x-python",
   "name": "python",
   "nbconvert_exporter": "python",
   "pygments_lexer": "ipython3",
   "version": "3.11.0 (v3.11.0:deaf509e8f, Oct 24 2022, 14:43:23) [Clang 13.0.0 (clang-1300.0.29.30)]"
  },
  "vscode": {
   "interpreter": {
    "hash": "aee8b7b246df8f9039afb4144a1f6fd8d2ca17a180786b69acc140d282b71a49"
   }
  }
 },
 "nbformat": 4,
 "nbformat_minor": 4
}
