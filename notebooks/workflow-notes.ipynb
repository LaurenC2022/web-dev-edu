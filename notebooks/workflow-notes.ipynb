{
 "cells": [
  {
   "cell_type": "markdown",
   "metadata": {},
   "source": [
    "# Possible work flow "
   ]
  },
  {
   "cell_type": "markdown",
   "metadata": {},
   "source": [
    "1. Page flow diagrams to show which pages are linked. Note if using CMS/ static site generator and how files will be managed \n",
    "2. page design (may come from a designer with the fonts and digital assets) \n",
    "3. build development plan with layout strategy for the front end based on mockup "
   ]
  },
  {
   "attachments": {},
   "cell_type": "markdown",
   "metadata": {},
   "source": [
    "- Have open while building \n",
    "    - Multiple browsers: [Firefox, Chrome, Opera, Safari, Brave](https://developer.mozilla.org/en-US/docs/Learn/Getting_started_with_the_web/Installing_basic_software) \n",
    "    - Developer tools for those browsers\n",
    "    - Documentation, such as DevDocs.io, w3schoos.com, and MDN Web Docs for cross reference\n",
    "    - Have notes and books open/ at table for reference \n",
    "\n",
    "If I am designing the page as well: \n",
    "    - check page for [visibility for people with color blindness](https://web.dev/learn/accessibility/color-contrast/)\n",
    "        - [Calculating Color Contrast](https://web.dev/learn/accessibility/color-contrast/#calculate-color-contrast)\n",
    "    - Check design for where your eye lands and if it meets the goal \n",
    "    - check for maximum accessiblity "
   ]
  }
 ],
 "metadata": {
  "kernelspec": {
   "display_name": "Python 3 (ipykernel)",
   "language": "python",
   "name": "python3"
  },
  "language_info": {
   "codemirror_mode": {
    "name": "ipython",
    "version": 3
   },
   "file_extension": ".py",
   "mimetype": "text/x-python",
   "name": "python",
   "nbconvert_exporter": "python",
   "pygments_lexer": "ipython3",
   "version": "3.11.0 (v3.11.0:deaf509e8f, Oct 24 2022, 14:43:23) [Clang 13.0.0 (clang-1300.0.29.30)]"
  },
  "vscode": {
   "interpreter": {
    "hash": "aee8b7b246df8f9039afb4144a1f6fd8d2ca17a180786b69acc140d282b71a49"
   }
  }
 },
 "nbformat": 4,
 "nbformat_minor": 4
}
